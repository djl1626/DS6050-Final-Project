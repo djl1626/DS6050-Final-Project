{
 "cells": [
  {
   "cell_type": "code",
   "execution_count": 1,
   "metadata": {},
   "outputs": [],
   "source": [
    "#packages needed to run this notebook \n",
    "import numpy as np \n",
    "import pandas as pd \n",
    "import transformers \n",
    "import pycaret \n",
    "from transformers import AutoModel, BertTokenizerFast\n",
    "import matplotlib.pyplot as plt \n",
    "from sklearn.metrics import ConfusionMatrixDisplay, confusion_matrix\n",
    "from sklearn.model_selection import train_test_split\n",
    "from sklearn.metrics import classification_report\n",
    "import torch\n",
    "import torch.nn as nn\n",
    "#if using GPU\n",
    "device = torch.device(\"cuda\")"
   ]
  },
  {
   "cell_type": "markdown",
   "metadata": {},
   "source": [
    "##### The following cells comprise of the data preparation"
   ]
  },
  {
   "cell_type": "code",
   "execution_count": 2,
   "metadata": {},
   "outputs": [
    {
     "name": "stdout",
     "output_type": "stream",
     "text": [
      "(44898, 5)\n"
     ]
    },
    {
     "data": {
      "text/plain": [
       "0        Apparently these Germans are not interested in...\n",
       "1        DAKAR (Reuters) - Anglophone secessionists in ...\n",
       "2        If he had been black and the protesters had be...\n",
       "3        Here s a nice little factoid for you: out of a...\n",
       "4        VIENTIANE (Reuters) - U.S. President Barack Ob...\n",
       "                               ...                        \n",
       "44893    ANKARA (Reuters) - Turkey s banking regulator ...\n",
       "44894    WASHINGTON (Reuters) - The U.S. Senate Appropr...\n",
       "44895    A four-year-old Iowa boy died as the result of...\n",
       "44896    VATICAN CITY (Reuters) - Leading figures in th...\n",
       "44897    ISTANBUL (Reuters) - Turkish President Tayyip ...\n",
       "Name: text, Length: 44898, dtype: object"
      ]
     },
     "execution_count": 2,
     "metadata": {},
     "output_type": "execute_result"
    }
   ],
   "source": [
    "#loading in the data set \n",
    "true_df = pd.read_csv(\"/home/fjp8ez/deep_learning/DS6050-Final-Project/data/a1_True.csv\")\n",
    "fake_df = pd.read_csv(\"/home/fjp8ez/deep_learning/DS6050-Final-Project/data/a2_Fake.csv\")\n",
    "\n",
    "#generating true and fake labels under a new target column \n",
    "true_df['Target'] = ['True']*len(true_df)\n",
    "fake_df['Target'] = ['Fake']*len(fake_df)\n",
    "\n",
    "#merging true and fake data (random mixing into single df)\n",
    "full_df = true_df.append(fake_df).sample(frac=1).reset_index().drop(columns=['index'])\n",
    "\n",
    "print(full_df.shape)\n",
    "full_df.head(20)\n",
    "full_df['text']\n"
   ]
  },
  {
   "cell_type": "code",
   "execution_count": 3,
   "metadata": {},
   "outputs": [
    {
     "data": {
      "text/html": [
       "<div>\n",
       "<style scoped>\n",
       "    .dataframe tbody tr th:only-of-type {\n",
       "        vertical-align: middle;\n",
       "    }\n",
       "\n",
       "    .dataframe tbody tr th {\n",
       "        vertical-align: top;\n",
       "    }\n",
       "\n",
       "    .dataframe thead th {\n",
       "        text-align: right;\n",
       "    }\n",
       "</style>\n",
       "<table border=\"1\" class=\"dataframe\">\n",
       "  <thead>\n",
       "    <tr style=\"text-align: right;\">\n",
       "      <th></th>\n",
       "      <th>title</th>\n",
       "      <th>text</th>\n",
       "      <th>subject</th>\n",
       "      <th>date</th>\n",
       "      <th>Target</th>\n",
       "      <th>label</th>\n",
       "    </tr>\n",
       "  </thead>\n",
       "  <tbody>\n",
       "    <tr>\n",
       "      <th>0</th>\n",
       "      <td>GERMAN RESIDENTS FIGHT BACK: Anti-Islamic Song...</td>\n",
       "      <td>Apparently these Germans are not interested in...</td>\n",
       "      <td>left-news</td>\n",
       "      <td>Jan 3, 2016</td>\n",
       "      <td>Fake</td>\n",
       "      <td>1</td>\n",
       "    </tr>\n",
       "    <tr>\n",
       "      <th>1</th>\n",
       "      <td>Cameroon separatists kill at least two gendarm...</td>\n",
       "      <td>DAKAR (Reuters) - Anglophone secessionists in ...</td>\n",
       "      <td>worldnews</td>\n",
       "      <td>November 8, 2017</td>\n",
       "      <td>True</td>\n",
       "      <td>0</td>\n",
       "    </tr>\n",
       "    <tr>\n",
       "      <th>2</th>\n",
       "      <td>Trump Supporter Aims Loaded Gun At Black Live...</td>\n",
       "      <td>If he had been black and the protesters had be...</td>\n",
       "      <td>News</td>\n",
       "      <td>July 8, 2016</td>\n",
       "      <td>Fake</td>\n",
       "      <td>1</td>\n",
       "    </tr>\n",
       "    <tr>\n",
       "      <th>3</th>\n",
       "      <td>Of All The Candidates Running For President, ...</td>\n",
       "      <td>Here s a nice little factoid for you: out of a...</td>\n",
       "      <td>News</td>\n",
       "      <td>February 12, 2016</td>\n",
       "      <td>Fake</td>\n",
       "      <td>1</td>\n",
       "    </tr>\n",
       "    <tr>\n",
       "      <th>4</th>\n",
       "      <td>Obama may speak informally with Duterte in Lao...</td>\n",
       "      <td>VIENTIANE (Reuters) - U.S. President Barack Ob...</td>\n",
       "      <td>politicsNews</td>\n",
       "      <td>September 6, 2016</td>\n",
       "      <td>True</td>\n",
       "      <td>0</td>\n",
       "    </tr>\n",
       "  </tbody>\n",
       "</table>\n",
       "</div>"
      ],
      "text/plain": [
       "                                               title  \\\n",
       "0  GERMAN RESIDENTS FIGHT BACK: Anti-Islamic Song...   \n",
       "1  Cameroon separatists kill at least two gendarm...   \n",
       "2   Trump Supporter Aims Loaded Gun At Black Live...   \n",
       "3   Of All The Candidates Running For President, ...   \n",
       "4  Obama may speak informally with Duterte in Lao...   \n",
       "\n",
       "                                                text       subject  \\\n",
       "0  Apparently these Germans are not interested in...     left-news   \n",
       "1  DAKAR (Reuters) - Anglophone secessionists in ...     worldnews   \n",
       "2  If he had been black and the protesters had be...          News   \n",
       "3  Here s a nice little factoid for you: out of a...          News   \n",
       "4  VIENTIANE (Reuters) - U.S. President Barack Ob...  politicsNews   \n",
       "\n",
       "                 date Target  label  \n",
       "0         Jan 3, 2016   Fake      1  \n",
       "1   November 8, 2017    True      0  \n",
       "2        July 8, 2016   Fake      1  \n",
       "3   February 12, 2016   Fake      1  \n",
       "4  September 6, 2016    True      0  "
      ]
     },
     "execution_count": 3,
     "metadata": {},
     "output_type": "execute_result"
    }
   ],
   "source": [
    "#target column is current T or F, changing to 1 if fake and 0 of true\n",
    "full_df['label'] = pd.get_dummies(full_df.Target)['Fake']\n",
    "full_df.head()"
   ]
  },
  {
   "cell_type": "markdown",
   "metadata": {},
   "source": [
    "#### Exploratory Data Analysis"
   ]
  },
  {
   "cell_type": "code",
   "execution_count": null,
   "metadata": {},
   "outputs": [],
   "source": []
  },
  {
   "cell_type": "markdown",
   "metadata": {},
   "source": [
    "##### Train/Val/Test Split"
   ]
  },
  {
   "cell_type": "code",
   "execution_count": 4,
   "metadata": {},
   "outputs": [],
   "source": [
    "train_text, temp_text, train_labels, temp_labels = train_test_split(full_df['title'], full_df['label'],\n",
    "                                                                    random_state=2018,\n",
    "                                                                    test_size=0.3,\n",
    "                                                                    stratify=full_df['Target'])\n",
    "                    \n",
    "val_text, test_text, val_labels, test_labels = train_test_split(temp_text, temp_labels,\n",
    "                                                                random_state=2018,\n",
    "                                                                test_size=0.5,\n",
    "                                                                stratify=temp_labels)"
   ]
  },
  {
   "cell_type": "markdown",
   "metadata": {},
   "source": [
    "##### Fine Tuning BERT"
   ]
  },
  {
   "cell_type": "code",
   "execution_count": 5,
   "metadata": {},
   "outputs": [],
   "source": [
    "# Loading in bert model and tokenizer from hugging face\n",
    "bert_model = AutoModel.from_pretrained('bert-base-uncased')\n",
    "tokenizer = BertTokenizerFast.from_pretrained('bert-base-uncased')"
   ]
  },
  {
   "cell_type": "code",
   "execution_count": 6,
   "metadata": {},
   "outputs": [
    {
     "data": {
      "text/plain": [
       "Text(0, 0.5, 'Number of texts')"
      ]
     },
     "execution_count": 6,
     "metadata": {},
     "output_type": "execute_result"
    },
    {
     "data": {
      "image/png": "[encoded data removed]",
      "text/plain": [
       "<Figure size 640x480 with 1 Axes>"
      ]
     },
     "metadata": {},
     "output_type": "display_data"
    }
   ],
   "source": [
    "seq_len = [len(text.split()) for text in train_text]\n",
    "\n",
    "pd.Series(seq_len).hist(bins = 40,color='firebrick')\n",
    "plt.xlabel('Number of Words')\n",
    "plt.ylabel('Number of texts')"
   ]
  },
  {
   "cell_type": "markdown",
   "metadata": {},
   "source": [
    "In the histogram above, we can see that the majority of the titles have a word length of under 15. Given that, we will set the max title length to 15 and tokenize each title. "
   ]
  },
  {
   "cell_type": "code",
   "execution_count": 7,
   "metadata": {},
   "outputs": [],
   "source": [
    "max_title_length = 15\n",
    "\n",
    "#useing tokenizer to encode sequences in the training dataset\n",
    "train_tokens = tokenizer.batch_encode_plus(\n",
    "    train_text.tolist(),\n",
    "    max_length = max_title_length,\n",
    "    pad_to_max_length = True,\n",
    "    truncation = True\n",
    ")\n",
    "\n",
    "#same process for test and val set\n",
    "test_tokens = tokenizer.batch_encode_plus(\n",
    "    test_text.tolist(),\n",
    "    max_length = max_title_length,\n",
    "    pad_to_max_length = True,\n",
    "    truncation = True\n",
    ")\n",
    "\n",
    "val_tokens = tokenizer.batch_encode_plus(\n",
    "    val_text.tolist(),\n",
    "    max_length = max_title_length,\n",
    "    pad_to_max_length=True,\n",
    "    truncation=True\n",
    ")"
   ]
  },
  {
   "cell_type": "code",
   "execution_count": 8,
   "metadata": {},
   "outputs": [],
   "source": [
    "#converting all model data to tensors \n",
    "train_seq = torch.tensor(train_tokens['input_ids'])\n",
    "train_mask = torch.tensor(train_tokens['attention_mask'])\n",
    "train_y = torch.tensor(train_labels.tolist())\n",
    "\n",
    "val_seq = torch.tensor(val_tokens['input_ids'])\n",
    "val_mask = torch.tensor(val_tokens['attention_mask'])\n",
    "val_y = torch.tensor(val_labels.tolist())\n",
    "\n",
    "test_seq = torch.tensor(test_tokens['input_ids'])\n",
    "test_mask = torch.tensor(test_tokens['attention_mask'])\n",
    "test_y = torch.tensor(test_labels.tolist())"
   ]
  },
  {
   "cell_type": "markdown",
   "metadata": {},
   "source": [
    "##### Data loader structure definition \n",
    "below we will..\n",
    "- define batch size\n",
    "- wrap tensors \n",
    "- use sampler for sampling the data during training \n",
    "- define dataloaders for all three sets of data\n"
   ]
  },
  {
   "cell_type": "code",
   "execution_count": 9,
   "metadata": {},
   "outputs": [],
   "source": [
    "from torch.utils.data import TensorDataset, DataLoader,RandomSampler, SequentialSampler\n",
    "batch_size = 32\n",
    "\n",
    "train_data = TensorDataset(train_seq,train_mask,train_y)\n",
    "train_sampler = RandomSampler(train_data)\n",
    "train_dataloader = DataLoader(train_data, sampler=train_sampler,batch_size=batch_size)\n",
    "\n",
    "val_data = TensorDataset(val_seq, val_mask, val_y)           \n",
    "val_sampler = SequentialSampler(val_data)                     \n",
    "val_dataloader = DataLoader(val_data, sampler = val_sampler, batch_size=batch_size)"
   ]
  },
  {
   "cell_type": "code",
   "execution_count": 10,
   "metadata": {},
   "outputs": [],
   "source": [
    "#Freezing Bert MOdel \n",
    "for param in bert_model.parameters():\n",
    "    param.requires_grad = False    #use false here tell the training process\n",
    "    #not the update gradients"
   ]
  },
  {
   "cell_type": "markdown",
   "metadata": {},
   "source": [
    "#### Below is the code to define the Bert architecture"
   ]
  },
  {
   "cell_type": "code",
   "execution_count": 11,
   "metadata": {},
   "outputs": [
    {
     "name": "stderr",
     "output_type": "stream",
     "text": [
      "huggingface/tokenizers: The current process just got forked, after parallelism has already been used. Disabling parallelism to avoid deadlocks...\n",
      "To disable this warning, you can either:\n",
      "\t- Avoid using `tokenizers` before the fork if possible\n",
      "\t- Explicitly set the environment variable TOKENIZERS_PARALLELISM=(true | false)\n",
      "huggingface/tokenizers: The current process just got forked, after parallelism has already been used. Disabling parallelism to avoid deadlocks...\n",
      "To disable this warning, you can either:\n",
      "\t- Avoid using `tokenizers` before the fork if possible\n",
      "\t- Explicitly set the environment variable TOKENIZERS_PARALLELISM=(true | false)\n"
     ]
    }
   ],
   "source": [
    "import torch\n",
    "import torch.nn as nn\n",
    "from torch.optim import AdamW\n",
    "from transformers import BertModel\n",
    "\n",
    "class BERTClassifier(nn.Module):\n",
    "    def __init__(self, bert_model: BertModel):\n",
    "        super(BERTClassifier, self).__init__()\n",
    "        self.bert = bert_model\n",
    "        self.dropout = nn.Dropout(0.1)\n",
    "        self.classifier = nn.Sequential(\n",
    "            nn.Linear(768, 512),\n",
    "            nn.ReLU(),\n",
    "            nn.Dropout(0.1),\n",
    "            nn.Linear(512, 2),\n",
    "            nn.LogSoftmax(dim=1)\n",
    "        )\n",
    "\n",
    "    def forward(self, input_ids, attention_mask):\n",
    "        output = self.bert(input_ids=input_ids, attention_mask=attention_mask)\n",
    "        cls_output = output.pooler_output\n",
    "        return self.classifier(cls_output)\n",
    "\n",
    "# Device\n",
    "device = torch.device('cuda' if torch.cuda.is_available() else 'cpu')\n",
    "\n",
    "# Model\n",
    "model = BERTClassifier(bert_model).to(device)\n",
    "\n",
    "# Optimizer & Loss\n",
    "optimizer = AdamW(model.parameters(), lr=1e-5)\n",
    "criterion = nn.NLLLoss().to(device)\n",
    "\n",
    "# Training params\n",
    "epochs = 10"
   ]
  },
  {
   "cell_type": "markdown",
   "metadata": {},
   "source": [
    "##### Below we are identifying our training and evaluation functions"
   ]
  },
  {
   "cell_type": "code",
   "execution_count": 12,
   "metadata": {},
   "outputs": [],
   "source": [
    "def train_epoch(dataloader):\n",
    "    model.train()\n",
    "    total_loss, correct_preds = 0, 0\n",
    "\n",
    "    for batch in dataloader:\n",
    "        input_ids, attention_mask, labels = [b.to(device) for b in batch]\n",
    "        \n",
    "        optimizer.zero_grad()\n",
    "        outputs = model(input_ids, attention_mask)\n",
    "        \n",
    "        loss = criterion(outputs, labels)\n",
    "        total_loss += loss.item()\n",
    "        \n",
    "        loss.backward()\n",
    "        torch.nn.utils.clip_grad_norm_(model.parameters(), 1.0)\n",
    "        optimizer.step()\n",
    "\n",
    "        preds = outputs.argmax(dim=1)\n",
    "        correct_preds += (preds == labels).sum().item()\n",
    "\n",
    "    avg_loss = total_loss / len(dataloader)\n",
    "    avg_acc = correct_preds / len(dataloader.dataset)\n",
    "    return avg_loss, avg_acc\n",
    "\n",
    "\n",
    "def eval_epoch(dataloader):\n",
    "    model.eval()\n",
    "    total_loss, correct_preds = 0, 0\n",
    "\n",
    "    with torch.no_grad():\n",
    "        for batch in dataloader:\n",
    "            input_ids, attention_mask, labels = [b.to(device) for b in batch]\n",
    "            outputs = model(input_ids, attention_mask)\n",
    "\n",
    "            loss = criterion(outputs, labels)\n",
    "            total_loss += loss.item()\n",
    "\n",
    "            preds = outputs.argmax(dim=1)\n",
    "            correct_preds += (preds == labels).sum().item()\n",
    "\n",
    "    avg_loss = total_loss / len(dataloader)\n",
    "    avg_acc = correct_preds / len(dataloader.dataset)\n",
    "    return avg_loss, avg_acc\n"
   ]
  },
  {
   "cell_type": "markdown",
   "metadata": {},
   "source": [
    "##### Model Training and prediction"
   ]
  },
  {
   "cell_type": "code",
   "execution_count": 13,
   "metadata": {},
   "outputs": [
    {
     "name": "stdout",
     "output_type": "stream",
     "text": [
      "\n",
      "Epoch 1/10\n",
      "Train Loss: 0.5553 | Train Acc: 0.7169\n",
      "Val   Loss: 0.4837 | Val   Acc: 0.7697\n",
      "\n",
      "Epoch 2/10\n",
      "Train Loss: 0.4657 | Train Acc: 0.7875\n",
      "Val   Loss: 0.4085 | Val   Acc: 0.8370\n",
      "\n",
      "Epoch 3/10\n",
      "Train Loss: 0.4115 | Train Acc: 0.8197\n",
      "Val   Loss: 0.3649 | Val   Acc: 0.8554\n",
      "\n",
      "Epoch 4/10\n",
      "Train Loss: 0.3762 | Train Acc: 0.8400\n",
      "Val   Loss: 0.3341 | Val   Acc: 0.8711\n",
      "\n",
      "Epoch 5/10\n",
      "Train Loss: 0.3534 | Train Acc: 0.8513\n",
      "Val   Loss: 0.3166 | Val   Acc: 0.8747\n",
      "\n",
      "Epoch 6/10\n",
      "Train Loss: 0.3402 | Train Acc: 0.8567\n",
      "Val   Loss: 0.2997 | Val   Acc: 0.8812\n",
      "\n",
      "Epoch 7/10\n",
      "Train Loss: 0.3278 | Train Acc: 0.8608\n",
      "Val   Loss: 0.3085 | Val   Acc: 0.8742\n",
      "\n",
      "Epoch 8/10\n",
      "Train Loss: 0.3216 | Train Acc: 0.8631\n",
      "Val   Loss: 0.2835 | Val   Acc: 0.8848\n",
      "\n",
      "Epoch 9/10\n",
      "Train Loss: 0.3176 | Train Acc: 0.8655\n",
      "Val   Loss: 0.2795 | Val   Acc: 0.8855\n",
      "\n",
      "Epoch 10/10\n",
      "Train Loss: 0.3106 | Train Acc: 0.8680\n",
      "Val   Loss: 0.2753 | Val   Acc: 0.8870\n"
     ]
    }
   ],
   "source": [
    "train_losses, val_losses = [], []\n",
    "best_val_loss = float('inf')\n",
    "\n",
    "for epoch in range(epochs):\n",
    "    print(f\"\\nEpoch {epoch+1}/{epochs}\")\n",
    "    \n",
    "    train_loss, train_acc = train_epoch(train_dataloader)\n",
    "    val_loss, val_acc = eval_epoch(val_dataloader)\n",
    "\n",
    "    train_losses.append(train_loss)\n",
    "    val_losses.append(val_loss)\n",
    "\n",
    "    print(f\"Train Loss: {train_loss:.4f} | Train Acc: {train_acc:.4f}\")\n",
    "    print(f\"Val   Loss: {val_loss:.4f} | Val   Acc: {val_acc:.4f}\")\n",
    "\n",
    "    if val_loss < best_val_loss:\n",
    "        best_val_loss = val_loss\n",
    "        torch.save(model.state_dict(), \"best_bert_model.pt\")\n"
   ]
  },
  {
   "cell_type": "markdown",
   "metadata": {},
   "source": []
  }
 ],
 "metadata": {
  "kernelspec": {
   "display_name": "base",
   "language": "python",
   "name": "python3"
  },
  "language_info": {
   "codemirror_mode": {
    "name": "ipython",
    "version": 3
   },
   "file_extension": ".py",
   "mimetype": "text/x-python",
   "name": "python",
   "nbconvert_exporter": "python",
   "pygments_lexer": "ipython3",
   "version": "3.11.6"
  }
 },
 "nbformat": 4,
 "nbformat_minor": 2
}

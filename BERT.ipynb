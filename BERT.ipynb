{
 "cells": [
  {
   "cell_type": "code",
   "execution_count": 1,
   "metadata": {},
   "outputs": [],
   "source": [
    "#packages needed to run this notebook \n",
    "import numpy as np \n",
    "import pandas as pd \n",
    "import transformers \n",
    "import pycaret \n",
    "from transformers import AutoModel, BertTokenizerFast\n",
    "import matplotlib.pyplot as plt \n",
    "from sklearn.metrics import ConfusionMatrixDisplay, confusion_matrix\n",
    "from sklearn.model_selection import train_test_split\n",
    "from sklearn.metrics import classification_report\n",
    "import torch\n",
    "import torch.nn as nn\n",
    "#if using GPU\n",
    "device = torch.device(\"cuda\")"
   ]
  },
  {
   "cell_type": "markdown",
   "metadata": {},
   "source": [
    "##### The following cells comprise of the data preparation"
   ]
  },
  {
   "cell_type": "code",
   "execution_count": null,
   "metadata": {},
   "outputs": [
    {
     "name": "stdout",
     "output_type": "stream",
     "text": [
      "(44898, 5)\n"
     ]
    },
    {
     "data": {
      "text/plain": [
       "0        BAYAMON, Puerto Rico/NEW YORK, (Reuters) - Alo...\n",
       "1        New Black Panther Entertainer of The Year, Bey...\n",
       "2        (Reuters) - President Donald Trump told Congre...\n",
       "3        Hillary Clinton is a professional panderer. Th...\n",
       "4        PARIS (Reuters) - One French soldier from the ...\n",
       "                               ...                        \n",
       "44893    North Carolina is stuck in the past and the ci...\n",
       "44894    BRUSSELS (Reuters) - European Union leaders ap...\n",
       "44895    (Reuters) - Proposals from U.S. Republicans to...\n",
       "44896    BARCELONA (Reuters) - Catalan regional leader ...\n",
       "44897    Sarah Palin has marked her return to the natio...\n",
       "Name: text, Length: 44898, dtype: object"
      ]
     },
     "execution_count": 2,
     "metadata": {},
     "output_type": "execute_result"
    }
   ],
   "source": [
    "#loading in the data set \n",
    "true_df = pd.read_csv(\"/home/fjp8ez/deep_learning/DS6050-Final-Project/data/kaggle/a1_True.csv\")\n",
    "fake_df = pd.read_csv(\"/home/fjp8ez/deep_learning/DS6050-Final-Project/data/kaggle/a2_Fake.csv\")\n",
    "\n",
    "#generating true and fake labels under a new target column \n",
    "true_df['Target'] = ['True']*len(true_df)\n",
    "fake_df['Target'] = ['Fake']*len(fake_df)\n",
    "\n",
    "#merging true and fake data (random mixing into single df)\n",
    "full_df = true_df.append(fake_df).sample(frac=1).reset_index().drop(columns=['index'])\n",
    "\n",
    "print(full_df.shape)\n",
    "full_df.head(20)\n",
    "full_df['text']\n"
   ]
  },
  {
   "cell_type": "code",
   "execution_count": 3,
   "metadata": {},
   "outputs": [
    {
     "data": {
      "text/html": [
       "<div>\n",
       "<style scoped>\n",
       "    .dataframe tbody tr th:only-of-type {\n",
       "        vertical-align: middle;\n",
       "    }\n",
       "\n",
       "    .dataframe tbody tr th {\n",
       "        vertical-align: top;\n",
       "    }\n",
       "\n",
       "    .dataframe thead th {\n",
       "        text-align: right;\n",
       "    }\n",
       "</style>\n",
       "<table border=\"1\" class=\"dataframe\">\n",
       "  <thead>\n",
       "    <tr style=\"text-align: right;\">\n",
       "      <th></th>\n",
       "      <th>title</th>\n",
       "      <th>text</th>\n",
       "      <th>subject</th>\n",
       "      <th>date</th>\n",
       "      <th>Target</th>\n",
       "      <th>label</th>\n",
       "    </tr>\n",
       "  </thead>\n",
       "  <tbody>\n",
       "    <tr>\n",
       "      <th>0</th>\n",
       "      <td>In Puerto Rico, a sinkhole of rebuilding strug...</td>\n",
       "      <td>BAYAMON, Puerto Rico/NEW YORK, (Reuters) - Alo...</td>\n",
       "      <td>worldnews</td>\n",
       "      <td>November 10, 2017</td>\n",
       "      <td>True</td>\n",
       "      <td>0</td>\n",
       "    </tr>\n",
       "    <tr>\n",
       "      <th>1</th>\n",
       "      <td>CLASSLESS, BLACK PANTHER DIVA, Beyonce Shows U...</td>\n",
       "      <td>New Black Panther Entertainer of The Year, Bey...</td>\n",
       "      <td>politics</td>\n",
       "      <td>Apr 2, 2016</td>\n",
       "      <td>Fake</td>\n",
       "      <td>1</td>\n",
       "    </tr>\n",
       "    <tr>\n",
       "      <th>2</th>\n",
       "      <td>Pompe drug lauded by Trump costs $300,000 a year</td>\n",
       "      <td>(Reuters) - President Donald Trump told Congre...</td>\n",
       "      <td>politicsNews</td>\n",
       "      <td>March 1, 2017</td>\n",
       "      <td>True</td>\n",
       "      <td>0</td>\n",
       "    </tr>\n",
       "    <tr>\n",
       "      <th>3</th>\n",
       "      <td>HOW HILLARY CLINTON Has Secured Her Husband’s ...</td>\n",
       "      <td>Hillary Clinton is a professional panderer. Th...</td>\n",
       "      <td>politics</td>\n",
       "      <td>Feb 2, 2016</td>\n",
       "      <td>Fake</td>\n",
       "      <td>1</td>\n",
       "    </tr>\n",
       "    <tr>\n",
       "      <th>4</th>\n",
       "      <td>One French soldier killed in Iraq-Syria area: ...</td>\n",
       "      <td>PARIS (Reuters) - One French soldier from the ...</td>\n",
       "      <td>worldnews</td>\n",
       "      <td>September 23, 2017</td>\n",
       "      <td>True</td>\n",
       "      <td>0</td>\n",
       "    </tr>\n",
       "  </tbody>\n",
       "</table>\n",
       "</div>"
      ],
      "text/plain": [
       "                                               title  \\\n",
       "0  In Puerto Rico, a sinkhole of rebuilding strug...   \n",
       "1  CLASSLESS, BLACK PANTHER DIVA, Beyonce Shows U...   \n",
       "2   Pompe drug lauded by Trump costs $300,000 a year   \n",
       "3  HOW HILLARY CLINTON Has Secured Her Husband’s ...   \n",
       "4  One French soldier killed in Iraq-Syria area: ...   \n",
       "\n",
       "                                                text       subject  \\\n",
       "0  BAYAMON, Puerto Rico/NEW YORK, (Reuters) - Alo...     worldnews   \n",
       "1  New Black Panther Entertainer of The Year, Bey...      politics   \n",
       "2  (Reuters) - President Donald Trump told Congre...  politicsNews   \n",
       "3  Hillary Clinton is a professional panderer. Th...      politics   \n",
       "4  PARIS (Reuters) - One French soldier from the ...     worldnews   \n",
       "\n",
       "                  date Target  label  \n",
       "0   November 10, 2017    True      0  \n",
       "1          Apr 2, 2016   Fake      1  \n",
       "2       March 1, 2017    True      0  \n",
       "3          Feb 2, 2016   Fake      1  \n",
       "4  September 23, 2017    True      0  "
      ]
     },
     "execution_count": 3,
     "metadata": {},
     "output_type": "execute_result"
    }
   ],
   "source": [
    "#target column is current T or F, changing to 1 if fake and 0 of true\n",
    "full_df['label'] = pd.get_dummies(full_df.Target)['Fake']\n",
    "full_df.head()"
   ]
  },
  {
   "cell_type": "markdown",
   "metadata": {},
   "source": [
    "#### Exploratory Data Analysis"
   ]
  },
  {
   "cell_type": "code",
   "execution_count": null,
   "metadata": {},
   "outputs": [],
   "source": []
  },
  {
   "cell_type": "markdown",
   "metadata": {},
   "source": [
    "##### Train/Val/Test Split"
   ]
  },
  {
   "cell_type": "code",
   "execution_count": 4,
   "metadata": {},
   "outputs": [],
   "source": [
    "train_text, temp_text, train_labels, temp_labels = train_test_split(full_df['title'], full_df['label'],\n",
    "                                                                    random_state=2018,\n",
    "                                                                    test_size=0.3,\n",
    "                                                                    stratify=full_df['Target'])\n",
    "                    \n",
    "val_text, test_text, val_labels, test_labels = train_test_split(temp_text, temp_labels,\n",
    "                                                                random_state=2018,\n",
    "                                                                test_size=0.5,\n",
    "                                                                stratify=temp_labels)"
   ]
  },
  {
   "cell_type": "markdown",
   "metadata": {},
   "source": [
    "##### Fine Tuning BERT"
   ]
  },
  {
   "cell_type": "code",
   "execution_count": 5,
   "metadata": {},
   "outputs": [],
   "source": [
    "# Loading in bert model and tokenizer from hugging face\n",
    "bert_model = AutoModel.from_pretrained('bert-base-uncased')\n",
    "tokenizer = BertTokenizerFast.from_pretrained('bert-base-uncased')"
   ]
  },
  {
   "cell_type": "code",
   "execution_count": 6,
   "metadata": {},
   "outputs": [
    {
     "data": {
      "text/plain": [
       "Text(0, 0.5, 'Number of texts')"
      ]
     },
     "execution_count": 6,
     "metadata": {},
     "output_type": "execute_result"
    },
    {
     "data": {
      "image/png": "[encoded data removed]",
      "text/plain": [
       "<Figure size 640x480 with 1 Axes>"
      ]
     },
     "metadata": {},
     "output_type": "display_data"
    }
   ],
   "source": [
    "seq_len = [len(text.split()) for text in train_text]\n",
    "\n",
    "pd.Series(seq_len).hist(bins = 40,color='firebrick')\n",
    "plt.xlabel('Number of Words')\n",
    "plt.ylabel('Number of texts')"
   ]
  },
  {
   "cell_type": "markdown",
   "metadata": {},
   "source": [
    "In the histogram above, we can see that the majority of the titles have a word length of under 15. Given that, we will set the max title length to 15 and tokenize each title. "
   ]
  },
  {
   "cell_type": "code",
   "execution_count": 7,
   "metadata": {},
   "outputs": [],
   "source": [
    "max_title_length = 15\n",
    "\n",
    "#useing tokenizer to encode sequences in the training dataset\n",
    "train_tokens = tokenizer.batch_encode_plus(\n",
    "    train_text.tolist(),\n",
    "    max_length = max_title_length,\n",
    "    pad_to_max_length = True,\n",
    "    truncation = True\n",
    ")\n",
    "\n",
    "#same process for test and val set\n",
    "test_tokens = tokenizer.batch_encode_plus(\n",
    "    test_text.tolist(),\n",
    "    max_length = max_title_length,\n",
    "    pad_to_max_length = True,\n",
    "    truncation = True\n",
    ")\n",
    "\n",
    "val_tokens = tokenizer.batch_encode_plus(\n",
    "    val_text.tolist(),\n",
    "    max_length = max_title_length,\n",
    "    pad_to_max_length=True,\n",
    "    truncation=True\n",
    ")"
   ]
  },
  {
   "cell_type": "code",
   "execution_count": 8,
   "metadata": {},
   "outputs": [],
   "source": [
    "#converting all model data to tensors \n",
    "train_seq = torch.tensor(train_tokens['input_ids'])\n",
    "train_mask = torch.tensor(train_tokens['attention_mask'])\n",
    "train_y = torch.tensor(train_labels.tolist())\n",
    "\n",
    "val_seq = torch.tensor(val_tokens['input_ids'])\n",
    "val_mask = torch.tensor(val_tokens['attention_mask'])\n",
    "val_y = torch.tensor(val_labels.tolist())\n",
    "\n",
    "test_seq = torch.tensor(test_tokens['input_ids'])\n",
    "test_mask = torch.tensor(test_tokens['attention_mask'])\n",
    "test_y = torch.tensor(test_labels.tolist())"
   ]
  },
  {
   "cell_type": "markdown",
   "metadata": {},
   "source": [
    "##### Data loader structure definition \n",
    "below we will..\n",
    "- define batch size\n",
    "- wrap tensors \n",
    "- use sampler for sampling the data during training \n",
    "- define dataloaders for all three sets of data\n"
   ]
  },
  {
   "cell_type": "code",
   "execution_count": 9,
   "metadata": {},
   "outputs": [],
   "source": [
    "from torch.utils.data import TensorDataset, DataLoader,RandomSampler, SequentialSampler\n",
    "batch_size = 32\n",
    "\n",
    "train_data = TensorDataset(train_seq,train_mask,train_y)\n",
    "train_sampler = RandomSampler(train_data)\n",
    "train_dataloader = DataLoader(train_data, sampler=train_sampler,batch_size=batch_size)\n",
    "\n",
    "val_data = TensorDataset(val_seq, val_mask, val_y)           \n",
    "val_sampler = SequentialSampler(val_data)                     \n",
    "val_dataloader = DataLoader(val_data, sampler = val_sampler, batch_size=batch_size)"
   ]
  },
  {
   "cell_type": "code",
   "execution_count": 10,
   "metadata": {},
   "outputs": [],
   "source": [
    "#Freezing Bert MOdel \n",
    "for param in bert_model.parameters():\n",
    "    param.requires_grad = False    #use false here tell the training process\n",
    "    #not the update gradients"
   ]
  },
  {
   "cell_type": "markdown",
   "metadata": {},
   "source": [
    "#### Below is the code to define the Bert architecture"
   ]
  },
  {
   "cell_type": "code",
   "execution_count": 11,
   "metadata": {},
   "outputs": [
    {
     "name": "stderr",
     "output_type": "stream",
     "text": [
      "huggingface/tokenizers: The current process just got forked, after parallelism has already been used. Disabling parallelism to avoid deadlocks...\n",
      "To disable this warning, you can either:\n",
      "\t- Avoid using `tokenizers` before the fork if possible\n",
      "\t- Explicitly set the environment variable TOKENIZERS_PARALLELISM=(true | false)\n",
      "huggingface/tokenizers: The current process just got forked, after parallelism has already been used. Disabling parallelism to avoid deadlocks...\n",
      "To disable this warning, you can either:\n",
      "\t- Avoid using `tokenizers` before the fork if possible\n",
      "\t- Explicitly set the environment variable TOKENIZERS_PARALLELISM=(true | false)\n"
     ]
    }
   ],
   "source": [
    "import torch\n",
    "import torch.nn as nn\n",
    "from torch.optim import AdamW\n",
    "from transformers import BertModel\n",
    "\n",
    "class BERTClassifier(nn.Module):\n",
    "    def __init__(self, bert_model: BertModel):\n",
    "        super(BERTClassifier, self).__init__()\n",
    "        self.bert = bert_model\n",
    "        self.dropout = nn.Dropout(0.1)\n",
    "        self.classifier = nn.Sequential(\n",
    "            nn.Linear(768, 512),\n",
    "            nn.ReLU(),\n",
    "            nn.Dropout(0.1),\n",
    "            nn.Linear(512, 2),\n",
    "            nn.LogSoftmax(dim=1)\n",
    "        )\n",
    "\n",
    "    def forward(self, input_ids, attention_mask):\n",
    "        output = self.bert(input_ids=input_ids, attention_mask=attention_mask)\n",
    "        cls_output = output.pooler_output\n",
    "        return self.classifier(cls_output)\n",
    "\n",
    "# Device\n",
    "device = torch.device('cuda' if torch.cuda.is_available() else 'cpu')\n",
    "\n",
    "# Model\n",
    "model = BERTClassifier(bert_model).to(device)\n",
    "\n",
    "# Optimizer & Loss\n",
    "optimizer = AdamW(model.parameters(), lr=1e-5)\n",
    "criterion = nn.NLLLoss().to(device)\n",
    "\n",
    "# Training params\n",
    "epochs = 10"
   ]
  },
  {
   "cell_type": "markdown",
   "metadata": {},
   "source": [
    "##### Below we are identifying our training and evaluation functions"
   ]
  },
  {
   "cell_type": "code",
   "execution_count": 12,
   "metadata": {},
   "outputs": [],
   "source": [
    "def train_epoch(dataloader):\n",
    "    model.train()\n",
    "    total_loss, correct_preds = 0, 0\n",
    "\n",
    "    for batch in dataloader:\n",
    "        input_ids, attention_mask, labels = [b.to(device) for b in batch]\n",
    "        \n",
    "        optimizer.zero_grad()\n",
    "        outputs = model(input_ids, attention_mask)\n",
    "        \n",
    "        loss = criterion(outputs, labels)\n",
    "        total_loss += loss.item()\n",
    "        \n",
    "        loss.backward()\n",
    "        torch.nn.utils.clip_grad_norm_(model.parameters(), 1.0)\n",
    "        optimizer.step()\n",
    "\n",
    "        preds = outputs.argmax(dim=1)\n",
    "        correct_preds += (preds == labels).sum().item()\n",
    "\n",
    "    avg_loss = total_loss / len(dataloader)\n",
    "    avg_acc = correct_preds / len(dataloader.dataset)\n",
    "    return avg_loss, avg_acc\n",
    "\n",
    "\n",
    "def eval_epoch(dataloader):\n",
    "    model.eval()\n",
    "    total_loss, correct_preds = 0, 0\n",
    "\n",
    "    with torch.no_grad():\n",
    "        for batch in dataloader:\n",
    "            input_ids, attention_mask, labels = [b.to(device) for b in batch]\n",
    "            outputs = model(input_ids, attention_mask)\n",
    "\n",
    "            loss = criterion(outputs, labels)\n",
    "            total_loss += loss.item()\n",
    "\n",
    "            preds = outputs.argmax(dim=1)\n",
    "            correct_preds += (preds == labels).sum().item()\n",
    "\n",
    "    avg_loss = total_loss / len(dataloader)\n",
    "    avg_acc = correct_preds / len(dataloader.dataset)\n",
    "    return avg_loss, avg_acc\n"
   ]
  },
  {
   "cell_type": "markdown",
   "metadata": {},
   "source": [
    "##### Model Training and prediction"
   ]
  },
  {
   "cell_type": "code",
   "execution_count": 13,
   "metadata": {},
   "outputs": [
    {
     "name": "stdout",
     "output_type": "stream",
     "text": [
      "\n",
      "Epoch 1/10\n",
      "Train Loss: 0.5661 | Train Acc: 0.7079\n",
      "Val   Loss: 0.4871 | Val   Acc: 0.7705\n",
      "\n",
      "Epoch 2/10\n",
      "Train Loss: 0.4707 | Train Acc: 0.7868\n",
      "Val   Loss: 0.4306 | Val   Acc: 0.8055\n",
      "\n",
      "Epoch 3/10\n",
      "Train Loss: 0.4138 | Train Acc: 0.8205\n",
      "Val   Loss: 0.3893 | Val   Acc: 0.8270\n",
      "\n",
      "Epoch 4/10\n",
      "Train Loss: 0.3768 | Train Acc: 0.8391\n",
      "Val   Loss: 0.3358 | Val   Acc: 0.8682\n",
      "\n",
      "Epoch 5/10\n",
      "Train Loss: 0.3549 | Train Acc: 0.8492\n",
      "Val   Loss: 0.3171 | Val   Acc: 0.8748\n",
      "\n",
      "Epoch 6/10\n",
      "Train Loss: 0.3412 | Train Acc: 0.8570\n",
      "Val   Loss: 0.3074 | Val   Acc: 0.8790\n",
      "\n",
      "Epoch 7/10\n",
      "Train Loss: 0.3307 | Train Acc: 0.8588\n",
      "Val   Loss: 0.2992 | Val   Acc: 0.8805\n",
      "\n",
      "Epoch 8/10\n",
      "Train Loss: 0.3262 | Train Acc: 0.8624\n",
      "Val   Loss: 0.2888 | Val   Acc: 0.8836\n",
      "\n",
      "Epoch 9/10\n",
      "Train Loss: 0.3205 | Train Acc: 0.8640\n",
      "Val   Loss: 0.2890 | Val   Acc: 0.8831\n",
      "\n",
      "Epoch 10/10\n",
      "Train Loss: 0.3125 | Train Acc: 0.8690\n",
      "Val   Loss: 0.2847 | Val   Acc: 0.8842\n"
     ]
    }
   ],
   "source": [
    "train_losses, val_losses = [], []\n",
    "train_accuracies, val_accuracies = [], []\n",
    "\n",
    "best_val_loss = float('inf')\n",
    "\n",
    "for epoch in range(epochs):\n",
    "    print(f\"\\nEpoch {epoch+1}/{epochs}\")\n",
    "    \n",
    "    \n",
    "    train_loss, train_acc = train_epoch(train_dataloader)\n",
    "   \n",
    "    val_loss, val_acc = eval_epoch(val_dataloader)\n",
    "\n",
    "  \n",
    "    train_losses.append(train_loss)\n",
    "    val_losses.append(val_loss)\n",
    "    train_accuracies.append(train_acc)\n",
    "    val_accuracies.append(val_acc)\n",
    "\n",
    "    print(f\"Train Loss: {train_loss:.4f} | Train Acc: {train_acc:.4f}\")\n",
    "    print(f\"Val   Loss: {val_loss:.4f} | Val   Acc: {val_acc:.4f}\")\n",
    "\n",
    "   \n",
    "    if val_loss < best_val_loss:\n",
    "        best_val_loss = val_loss\n",
    "        torch.save(model.state_dict(), \"best_bert_model.pt\")"
   ]
  },
  {
   "cell_type": "code",
   "execution_count": 14,
   "metadata": {},
   "outputs": [
    {
     "data": {
      "image/png": "[encoded data removed]",
      "text/plain": [
       "<Figure size 640x480 with 1 Axes>"
      ]
     },
     "metadata": {},
     "output_type": "display_data"
    },
    {
     "data": {
      "image/png": "[encoded data removed]",
      "text/plain": [
       "<Figure size 640x480 with 1 Axes>"
      ]
     },
     "metadata": {},
     "output_type": "display_data"
    }
   ],
   "source": [
    "import matplotlib.pyplot as plt\n",
    "\n",
    "epochs_range = range(1, epochs + 1)\n",
    "\n",
    "#plotting loss\n",
    "plt.plot(epochs_range, train_losses, label='Training Loss')\n",
    "plt.plot(epochs_range, val_losses, label='Validation Loss')\n",
    "plt.xlabel('Epoch')\n",
    "plt.ylabel('Loss')\n",
    "plt.title('Loss over Epochs')\n",
    "plt.legend()\n",
    "plt.show()\n",
    "\n",
    "#plotting accuracy\n",
    "plt.plot(epochs_range, train_accuracies, label='Training Accuracy')\n",
    "plt.plot(epochs_range, val_accuracies, label='Validation Accuracy')\n",
    "plt.xlabel('Epoch')\n",
    "plt.ylabel('Accuracy')\n",
    "plt.title('Accuracy over Epochs')\n",
    "plt.legend()\n",
    "plt.show()\n",
    "\n",
    "\n",
    "\n",
    "\n",
    "\n"
   ]
  },
  {
   "cell_type": "code",
   "execution_count": null,
   "metadata": {},
   "outputs": [],
   "source": []
  }
 ],
 "metadata": {
  "kernelspec": {
   "display_name": "base",
   "language": "python",
   "name": "python3"
  },
  "language_info": {
   "codemirror_mode": {
    "name": "ipython",
    "version": 3
   },
   "file_extension": ".py",
   "mimetype": "text/x-python",
   "name": "python",
   "nbconvert_exporter": "python",
   "pygments_lexer": "ipython3",
   "version": "3.11.6"
  }
 },
 "nbformat": 4,
 "nbformat_minor": 2
}

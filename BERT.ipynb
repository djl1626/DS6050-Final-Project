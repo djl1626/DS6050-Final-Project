{
 "cells": [
  {
   "cell_type": "markdown",
   "metadata": {},
   "source": [
    "## Packages Needed"
   ]
  },
  {
   "cell_type": "code",
   "execution_count": 1,
   "metadata": {},
   "outputs": [],
   "source": [
    "#packages needed to run this notebook \n",
    "import numpy as np \n",
    "import pandas as pd \n",
    "import transformers \n",
    "import pycaret \n",
    "from transformers import AutoModel, BertTokenizerFast\n",
    "import matplotlib.pyplot as plt \n",
    "from sklearn.metrics import ConfusionMatrixDisplay, confusion_matrix\n",
    "from sklearn.model_selection import train_test_split\n",
    "from sklearn.metrics import classification_report\n",
    "import torch\n",
    "import torch.nn as nn\n",
    "#if using GPU\n",
    "device = torch.device(\"cuda\")"
   ]
  },
  {
   "cell_type": "code",
   "execution_count": 5,
   "metadata": {},
   "outputs": [],
   "source": [
    "# Loading in bert model and tokenizer from hugging face\n",
    "bert_model = AutoModel.from_pretrained('bert-base-uncased')\n",
    "tokenizer = BertTokenizerFast.from_pretrained('bert-base-uncased')"
   ]
  },
  {
   "cell_type": "markdown",
   "metadata": {},
   "source": [
    "## Data Preproccessing"
   ]
  },
  {
   "cell_type": "code",
   "execution_count": null,
   "metadata": {},
   "outputs": [],
   "source": [
    "#loading in the data set \n",
    "true_df = pd.read_csv(\"/home/fjp8ez/deep_learning/DS6050-Final-Project/Data/kaggle/a1_True.csv\")\n",
    "fake_df = pd.read_csv(\"/home/fjp8ez/deep_learning/DS6050-Final-Project/Data/kaggle/a2_Fake.csv\")\n",
    "\n",
    "#generating true and fake labels under a new target column \n",
    "true_df['Target'] = ['True']*len(true_df)\n",
    "fake_df['Target'] = ['Fake']*len(fake_df)\n",
    "\n",
    "#merging true and fake data (random mixing into single df)\n",
    "full_df = true_df.append(fake_df).sample(frac=1).reset_index().drop(columns=['index'])\n",
    "\n",
    "print(full_df.shape)\n",
    "full_df.head(20)\n",
    "full_df['text']\n"
   ]
  },
  {
   "cell_type": "code",
   "execution_count": null,
   "metadata": {},
   "outputs": [],
   "source": [
    "#target column is current T or F, changing to 1 if fake and 0 of true\n",
    "full_df['label'] = pd.get_dummies(full_df.Target)['Fake']\n",
    "full_df.head()"
   ]
  },
  {
   "cell_type": "code",
   "execution_count": 34,
   "metadata": {},
   "outputs": [],
   "source": [
    "# data prep\n",
    "pf_fake = pd.read_csv('Data/politifact/politifact_fake.csv')\n",
    "pf_true = pd.read_csv('Data/politifact/politifact_real.csv')\n",
    "pf_fake['label'] = 1\n",
    "pf_true['label'] = 0\n",
    "# Concatenate the two dataframes\n",
    "politifact_df = pd.concat([pf_fake, pf_true], axis=0)"
   ]
  },
  {
   "cell_type": "markdown",
   "metadata": {},
   "source": [
    "### Combining Politicat and kaggle data to retrain BERT model with all of that data"
   ]
  },
  {
   "cell_type": "code",
   "execution_count": 38,
   "metadata": {},
   "outputs": [],
   "source": [
    "# Standardize column names just in case\n",
    "original_df = full_df[['title', 'label']].copy()\n",
    "politifact_df_cleaned = politifact_df[['title', 'label']].copy()\n",
    "\n",
    "# Combine the datasets\n",
    "combined_df = pd.concat([original_df, politifact_df_cleaned], ignore_index=True)\n"
   ]
  },
  {
   "cell_type": "code",
   "execution_count": 39,
   "metadata": {},
   "outputs": [],
   "source": [
    "\n",
    "train_text, temp_text, train_labels, temp_labels = train_test_split(\n",
    "    combined_df['title'], \n",
    "    combined_df['label'],\n",
    "    random_state=2018,\n",
    "    test_size=0.3,\n",
    "    stratify=combined_df['label']\n",
    ")\n",
    "\n",
    "val_text, test_text, val_labels, test_labels = train_test_split(\n",
    "    temp_text,\n",
    "    temp_labels,\n",
    "    random_state=2018,\n",
    "    test_size=0.5,\n",
    "    stratify=temp_labels\n",
    ")\n"
   ]
  },
  {
   "cell_type": "code",
   "execution_count": 40,
   "metadata": {},
   "outputs": [],
   "source": [
    "max_title_length = 15\n",
    "\n",
    "def tokenize(text_series):\n",
    "    return tokenizer.batch_encode_plus(\n",
    "        text_series.tolist(),\n",
    "        max_length=max_title_length,\n",
    "        padding='max_length',\n",
    "        truncation=True\n",
    "    )\n",
    "\n",
    "train_tokens = tokenize(train_text)\n",
    "val_tokens = tokenize(val_text)\n",
    "test_tokens = tokenize(test_text)\n"
   ]
  },
  {
   "cell_type": "code",
   "execution_count": 41,
   "metadata": {},
   "outputs": [],
   "source": [
    "def to_tensor_data(tokens, labels):\n",
    "    seq = torch.tensor(tokens['input_ids'])\n",
    "    mask = torch.tensor(tokens['attention_mask'])\n",
    "    y = torch.tensor(labels.tolist())\n",
    "    return seq, mask, y\n",
    "\n",
    "train_seq, train_mask, train_y = to_tensor_data(train_tokens, train_labels)\n",
    "val_seq, val_mask, val_y = to_tensor_data(val_tokens, val_labels)\n",
    "test_seq, test_mask, test_y = to_tensor_data(test_tokens, test_labels)\n"
   ]
  },
  {
   "cell_type": "code",
   "execution_count": 42,
   "metadata": {},
   "outputs": [],
   "source": [
    "from torch.utils.data import TensorDataset, DataLoader, RandomSampler, SequentialSampler\n",
    "\n",
    "batch_size = 32\n",
    "\n",
    "train_data = TensorDataset(train_seq, train_mask, train_y)\n",
    "train_sampler = RandomSampler(train_data)\n",
    "train_dataloader = DataLoader(train_data, sampler=train_sampler, batch_size=batch_size)\n",
    "\n",
    "val_data = TensorDataset(val_seq, val_mask, val_y)\n",
    "val_sampler = SequentialSampler(val_data)\n",
    "val_dataloader = DataLoader(val_data, sampler=val_sampler, batch_size=batch_size)\n",
    "\n",
    "test_data = TensorDataset(test_seq, test_mask, test_y)\n",
    "test_sampler = SequentialSampler(test_data)\n",
    "test_dataloader = DataLoader(test_data, sampler=test_sampler, batch_size=batch_size)\n"
   ]
  },
  {
   "cell_type": "markdown",
   "metadata": {},
   "source": [
    "## Model Architecture"
   ]
  },
  {
   "cell_type": "code",
   "execution_count": 10,
   "metadata": {},
   "outputs": [],
   "source": [
    "#Freezing Bert MOdel \n",
    "for param in bert_model.parameters():\n",
    "    param.requires_grad = False    #use false here tell the training process\n",
    "    #not the update gradients"
   ]
  },
  {
   "cell_type": "code",
   "execution_count": 11,
   "metadata": {},
   "outputs": [
    {
     "name": "stderr",
     "output_type": "stream",
     "text": [
      "huggingface/tokenizers: The current process just got forked, after parallelism has already been used. Disabling parallelism to avoid deadlocks...\n",
      "To disable this warning, you can either:\n",
      "\t- Avoid using `tokenizers` before the fork if possible\n",
      "\t- Explicitly set the environment variable TOKENIZERS_PARALLELISM=(true | false)\n",
      "huggingface/tokenizers: The current process just got forked, after parallelism has already been used. Disabling parallelism to avoid deadlocks...\n",
      "To disable this warning, you can either:\n",
      "\t- Avoid using `tokenizers` before the fork if possible\n",
      "\t- Explicitly set the environment variable TOKENIZERS_PARALLELISM=(true | false)\n"
     ]
    }
   ],
   "source": [
    "import torch\n",
    "import torch.nn as nn\n",
    "from torch.optim import AdamW\n",
    "from transformers import BertModel\n",
    "\n",
    "class BERTClassifier(nn.Module):\n",
    "    def __init__(self, bert_model: BertModel):\n",
    "        super(BERTClassifier, self).__init__()\n",
    "        self.bert = bert_model\n",
    "        self.dropout = nn.Dropout(0.1)\n",
    "        self.classifier = nn.Sequential(\n",
    "            nn.Linear(768, 512),\n",
    "            nn.ReLU(),\n",
    "            nn.Dropout(0.1),\n",
    "            nn.Linear(512, 2),\n",
    "            nn.LogSoftmax(dim=1)\n",
    "        )\n",
    "\n",
    "    def forward(self, input_ids, attention_mask):\n",
    "        output = self.bert(input_ids=input_ids, attention_mask=attention_mask)\n",
    "        cls_output = output.pooler_output\n",
    "        return self.classifier(cls_output)\n",
    "\n",
    "# Device\n",
    "device = torch.device('cuda' if torch.cuda.is_available() else 'cpu')\n",
    "\n",
    "# Model\n",
    "model = BERTClassifier(bert_model).to(device)\n",
    "\n",
    "# Optimizer & Loss\n",
    "optimizer = AdamW(model.parameters(), lr=1e-5)\n",
    "criterion = nn.NLLLoss().to(device)\n",
    "\n",
    "# Training params\n",
    "epochs = 15"
   ]
  },
  {
   "cell_type": "markdown",
   "metadata": {},
   "source": [
    "## Training"
   ]
  },
  {
   "cell_type": "code",
   "execution_count": null,
   "metadata": {},
   "outputs": [],
   "source": [
    "def train_epoch(dataloader):\n",
    "    model.train()\n",
    "    total_loss, correct_preds = 0, 0\n",
    "\n",
    "    for batch in dataloader:\n",
    "        input_ids, attention_mask, labels = [b.to(device) for b in batch]\n",
    "        \n",
    "        optimizer.zero_grad()\n",
    "        outputs = model(input_ids, attention_mask)\n",
    "        \n",
    "        loss = criterion(outputs, labels)\n",
    "        total_loss += loss.item()\n",
    "        \n",
    "        loss.backward()\n",
    "        torch.nn.utils.clip_grad_norm_(model.parameters(), 1.0)\n",
    "        optimizer.step()\n",
    "\n",
    "        preds = outputs.argmax(dim=1)\n",
    "        correct_preds += (preds == labels).sum().item()\n",
    "\n",
    "    avg_loss = total_loss / len(dataloader)\n",
    "    avg_acc = correct_preds / len(dataloader.dataset)\n",
    "    return avg_loss, avg_acc\n",
    "\n",
    "\n",
    "def eval_epoch(dataloader):\n",
    "    model.eval()\n",
    "    total_loss, correct_preds = 0, 0\n",
    "\n",
    "    with torch.no_grad():\n",
    "        for batch in dataloader:\n",
    "            input_ids, attention_mask, labels = [b.to(device) for b in batch]\n",
    "            outputs = model(input_ids, attention_mask)\n",
    "\n",
    "            loss = criterion(outputs, labels)\n",
    "            total_loss += loss.item()\n",
    "\n",
    "            preds = outputs.argmax(dim=1)\n",
    "            correct_preds += (preds == labels).sum().item()\n",
    "\n",
    "    avg_loss = total_loss / len(dataloader)\n",
    "    avg_acc = correct_preds / len(dataloader.dataset)\n",
    "    return avg_loss, avg_acc\n",
    "\n",
    "def test_model(model, dataloader, checkpoint_path):\n",
    "    model.load_state_dict(torch.load(checkpoint_path, map_location=device))\n",
    "    model.to(device)\n",
    "    model.eval()\n",
    "\n",
    "    total_loss, correct_preds = 0, 0\n",
    "    all_preds, all_labels = [], []\n",
    "\n",
    "    with torch.no_grad():\n",
    "        for batch in dataloader:\n",
    "            input_ids, attention_mask, labels = batch\n",
    "            input_ids = input_ids.to(device)\n",
    "            attention_mask = attention_mask.to(device)\n",
    "            labels = labels.to(device)\n",
    "\n",
    "            outputs = model(input_ids, attention_mask)\n",
    "            loss = criterion(outputs, labels)\n",
    "            total_loss += loss.item()\n",
    "\n",
    "            preds = outputs.argmax(dim=1)\n",
    "            correct_preds += (preds == labels).sum().item()\n",
    "\n",
    "            all_preds.extend(preds.cpu().tolist())\n",
    "            all_labels.extend(labels.cpu().tolist())\n",
    "\n",
    "    avg_loss = total_loss / len(dataloader)\n",
    "    avg_acc = correct_preds / len(dataloader.dataset)\n",
    "\n",
    "    return avg_loss, avg_acc, all_preds, all_labels\n",
    "\n",
    "\n",
    "\n"
   ]
  },
  {
   "cell_type": "code",
   "execution_count": 43,
   "metadata": {},
   "outputs": [
    {
     "name": "stdout",
     "output_type": "stream",
     "text": [
      "Epoch 1/15\n",
      "Train Loss: 0.3034 | Train Acc: 0.8717\n",
      "Val   Loss: 0.2653 | Val   Acc: 0.8886\n",
      "Epoch 2/15\n",
      "Train Loss: 0.3028 | Train Acc: 0.8721\n",
      "Val   Loss: 0.2630 | Val   Acc: 0.8928\n",
      "Epoch 3/15\n",
      "Train Loss: 0.3014 | Train Acc: 0.8718\n",
      "Val   Loss: 0.2640 | Val   Acc: 0.8906\n",
      "Epoch 4/15\n",
      "Train Loss: 0.2988 | Train Acc: 0.8731\n",
      "Val   Loss: 0.2636 | Val   Acc: 0.8899\n",
      "Epoch 5/15\n",
      "Train Loss: 0.2964 | Train Acc: 0.8750\n",
      "Val   Loss: 0.2586 | Val   Acc: 0.8928\n",
      "Epoch 6/15\n",
      "Train Loss: 0.2958 | Train Acc: 0.8743\n",
      "Val   Loss: 0.2582 | Val   Acc: 0.8929\n",
      "Epoch 7/15\n",
      "Train Loss: 0.2933 | Train Acc: 0.8739\n",
      "Val   Loss: 0.2532 | Val   Acc: 0.8971\n",
      "Epoch 8/15\n",
      "Train Loss: 0.2927 | Train Acc: 0.8761\n",
      "Val   Loss: 0.2513 | Val   Acc: 0.8960\n",
      "Epoch 9/15\n",
      "Train Loss: 0.2892 | Train Acc: 0.8784\n",
      "Val   Loss: 0.2506 | Val   Acc: 0.8963\n",
      "Epoch 10/15\n",
      "Train Loss: 0.2882 | Train Acc: 0.8776\n",
      "Val   Loss: 0.2562 | Val   Acc: 0.8929\n",
      "Epoch 11/15\n",
      "Train Loss: 0.2853 | Train Acc: 0.8796\n",
      "Val   Loss: 0.2470 | Val   Acc: 0.8996\n",
      "Epoch 12/15\n",
      "Train Loss: 0.2841 | Train Acc: 0.8801\n",
      "Val   Loss: 0.2578 | Val   Acc: 0.8916\n",
      "Epoch 13/15\n",
      "Train Loss: 0.2859 | Train Acc: 0.8775\n",
      "Val   Loss: 0.2486 | Val   Acc: 0.8963\n",
      "Epoch 14/15\n",
      "Train Loss: 0.2845 | Train Acc: 0.8804\n",
      "Val   Loss: 0.2445 | Val   Acc: 0.9011\n",
      "Epoch 15/15\n",
      "Train Loss: 0.2813 | Train Acc: 0.8812\n",
      "Val   Loss: 0.2454 | Val   Acc: 0.8983\n"
     ]
    }
   ],
   "source": [
    "epochs = 15  \n",
    "best_val_loss = float('inf')\n",
    "\n",
    "for epoch in range(epochs):\n",
    "    print(f\"Epoch {epoch + 1}/{epochs}\")\n",
    "    train_loss, train_acc = train_epoch(train_dataloader)\n",
    "    val_loss, val_acc = eval_epoch(val_dataloader)\n",
    "\n",
    "    print(f\"Train Loss: {train_loss:.4f} | Train Acc: {train_acc:.4f}\")\n",
    "    print(f\"Val   Loss: {val_loss:.4f} | Val   Acc: {val_acc:.4f}\")\n",
    "\n",
    "    if val_loss < best_val_loss:\n",
    "        best_val_loss = val_loss\n",
    "        torch.save(model.state_dict(), \"full_best_combined_model.pt\")\n"
   ]
  },
  {
   "cell_type": "markdown",
   "metadata": {},
   "source": [
    "## Testing"
   ]
  },
  {
   "cell_type": "markdown",
   "metadata": {},
   "source": [
    "## Visuals"
   ]
  },
  {
   "cell_type": "code",
   "execution_count": 14,
   "metadata": {},
   "outputs": [
    {
     "data": {
      "image/png": "[encoded data removed]",
      "text/plain": [
       "<Figure size 640x480 with 1 Axes>"
      ]
     },
     "metadata": {},
     "output_type": "display_data"
    },
    {
     "data": {
      "image/png": "[encoded data removed]",
      "text/plain": [
       "<Figure size 640x480 with 1 Axes>"
      ]
     },
     "metadata": {},
     "output_type": "display_data"
    }
   ],
   "source": [
    "import matplotlib.pyplot as plt\n",
    "\n",
    "epochs_range = range(1, epochs + 1)\n",
    "\n",
    "#plotting loss\n",
    "plt.plot(epochs_range, train_losses, label='Training Loss')\n",
    "plt.plot(epochs_range, val_losses, label='Validation Loss')\n",
    "plt.xlabel('Epoch')\n",
    "plt.ylabel('Loss')\n",
    "plt.title('Loss over Epochs')\n",
    "plt.legend()\n",
    "plt.show()\n",
    "\n",
    "#plotting accuracy\n",
    "plt.plot(epochs_range, train_accuracies, label='Training Accuracy')\n",
    "plt.plot(epochs_range, val_accuracies, label='Validation Accuracy')\n",
    "plt.xlabel('Epoch')\n",
    "plt.ylabel('Accuracy')\n",
    "plt.title('Accuracy over Epochs')\n",
    "plt.legend()\n",
    "plt.show()\n",
    "\n",
    "\n",
    "\n",
    "\n",
    "\n"
   ]
  },
  {
   "cell_type": "markdown",
   "metadata": {},
   "source": [
    "##### The following cells comprise of the data preparation"
   ]
  },
  {
   "cell_type": "markdown",
   "metadata": {},
   "source": [
    "#### Exploratory Data Analysis"
   ]
  },
  {
   "cell_type": "code",
   "execution_count": null,
   "metadata": {},
   "outputs": [],
   "source": []
  },
  {
   "cell_type": "markdown",
   "metadata": {},
   "source": [
    "##### Train/Val/Test Split"
   ]
  },
  {
   "cell_type": "markdown",
   "metadata": {},
   "source": [
    "##### Fine Tuning BERT"
   ]
  },
  {
   "cell_type": "code",
   "execution_count": 6,
   "metadata": {},
   "outputs": [
    {
     "data": {
      "text/plain": [
       "Text(0, 0.5, 'Number of texts')"
      ]
     },
     "execution_count": 6,
     "metadata": {},
     "output_type": "execute_result"
    },
    {
     "data": {
      "image/png": "[encoded data removed]",
      "text/plain": [
       "<Figure size 640x480 with 1 Axes>"
      ]
     },
     "metadata": {},
     "output_type": "display_data"
    }
   ],
   "source": [
    "seq_len = [len(text.split()) for text in train_text]\n",
    "\n",
    "pd.Series(seq_len).hist(bins = 40,color='firebrick')\n",
    "plt.xlabel('Number of Words')\n",
    "plt.ylabel('Number of texts')"
   ]
  },
  {
   "cell_type": "markdown",
   "metadata": {},
   "source": [
    "In the histogram above, we can see that the majority of the titles have a word length of under 15. Given that, we will set the max title length to 15 and tokenize each title. "
   ]
  },
  {
   "cell_type": "markdown",
   "metadata": {},
   "source": [
    "##### Data loader structure definition \n",
    "below we will..\n",
    "- define batch size\n",
    "- wrap tensors \n",
    "- use sampler for sampling the data during training \n",
    "- define dataloaders for all three sets of data\n"
   ]
  },
  {
   "cell_type": "markdown",
   "metadata": {},
   "source": [
    "#### Below is the code to define the Bert architecture"
   ]
  },
  {
   "cell_type": "markdown",
   "metadata": {},
   "source": [
    "##### Below we are identifying our training and evaluation functions"
   ]
  },
  {
   "cell_type": "markdown",
   "metadata": {},
   "source": [
    "##### Model Training and prediction"
   ]
  },
  {
   "cell_type": "markdown",
   "metadata": {},
   "source": [
    "#### Inference on new politifact dataset"
   ]
  },
  {
   "cell_type": "code",
   "execution_count": 15,
   "metadata": {},
   "outputs": [],
   "source": [
    "import torch\n",
    "import torch.nn as nn\n",
    "import pandas as pd\n",
    "from sklearn.model_selection import train_test_split\n",
    "from torch.utils.data import Dataset, DataLoader\n",
    "from transformers import BertTokenizer, BertForSequenceClassification\n",
    "from sklearn.metrics import accuracy_score"
   ]
  }
 ],
 "metadata": {
  "kernelspec": {
   "display_name": "base",
   "language": "python",
   "name": "python3"
  },
  "language_info": {
   "codemirror_mode": {
    "name": "ipython",
    "version": 3
   },
   "file_extension": ".py",
   "mimetype": "text/x-python",
   "name": "python",
   "nbconvert_exporter": "python",
   "pygments_lexer": "ipython3",
   "version": "3.11.6"
  }
 },
 "nbformat": 4,
 "nbformat_minor": 2
}

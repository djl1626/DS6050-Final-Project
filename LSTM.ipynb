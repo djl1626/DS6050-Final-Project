{
 "cells": [
  {
   "cell_type": "code",
   "execution_count": 1,
   "metadata": {},
   "outputs": [
    {
     "name": "stderr",
     "output_type": "stream",
     "text": [
      "/home/skk8kc/.conda/envs/DS6050/lib/python3.13/site-packages/tqdm/auto.py:21: TqdmWarning: IProgress not found. Please update jupyter and ipywidgets. See https://ipywidgets.readthedocs.io/en/stable/user_install.html\n",
      "  from .autonotebook import tqdm as notebook_tqdm\n"
     ]
    }
   ],
   "source": [
    "import pandas as pd\n",
    "import numpy as np\n",
    "import matplotlib.pyplot as plt\n",
    "\n",
    "import torch\n",
    "import torch.nn as nn\n",
    "import torch.optim as optim\n",
    "from torch.utils.data import DataLoader, Dataset\n",
    "from sklearn.model_selection import train_test_split\n",
    "from transformers import BertTokenizer"
   ]
  },
  {
   "cell_type": "markdown",
   "metadata": {},
   "source": [
    "## Data Preprocessing"
   ]
  },
  {
   "cell_type": "code",
   "execution_count": 2,
   "metadata": {},
   "outputs": [],
   "source": [
    "# Load in the data\n",
    "fake_news = pd.read_csv('data/a2_Fake.csv')\n",
    "true_news = pd.read_csv('data/a1_True.csv')\n",
    "\n",
    "# Add labels to each dataframe where 1 is fake and 0 is true\n",
    "fake_news['label'] = 1\n",
    "true_news['label'] = 0\n",
    "\n",
    "# Concatenate the two dataframes\n",
    "news = pd.concat([fake_news, true_news], axis=0)"
   ]
  },
  {
   "cell_type": "code",
   "execution_count": 3,
   "metadata": {},
   "outputs": [],
   "source": [
    "# Split the data into training, validation, and testing sets\n",
    "train_df, temp_df = train_test_split(news, test_size=0.3, random_state=42, shuffle=True)\n",
    "val_df, test_df = train_test_split(temp_df, test_size=0.5, random_state=42, shuffle=True)"
   ]
  },
  {
   "cell_type": "code",
   "execution_count": 4,
   "metadata": {},
   "outputs": [],
   "source": [
    "tokenizer = BertTokenizer.from_pretrained('bert-base-uncased')"
   ]
  },
  {
   "cell_type": "code",
   "execution_count": 5,
   "metadata": {},
   "outputs": [],
   "source": [
    "class FakeNewsDataset(Dataset):\n",
    "    def __init__(self, dataframe, tokenizer, max_length):\n",
    "        self.inputs = dataframe['title']\n",
    "        self.labels = dataframe['label']\n",
    "        self.tokenizer = tokenizer\n",
    "        self.max_length = max_length\n",
    "\n",
    "    def __len__(self):\n",
    "        return len(self.inputs)\n",
    "    \n",
    "    def __getitem__(self, idx):\n",
    "        input_text = self.inputs.iloc[idx]\n",
    "        tokenized_inputs = self.tokenizer.encode(\n",
    "            input_text,\n",
    "            max_length=self.max_length,\n",
    "            truncation=True,\n",
    "            padding='max_length',\n",
    "            return_tensors='pt'\n",
    "        )\n",
    "        label = self.labels.iloc[idx]\n",
    "        return tokenized_inputs, torch.tensor(label, dtype=torch.long)"
   ]
  },
  {
   "cell_type": "code",
   "execution_count": 6,
   "metadata": {},
   "outputs": [],
   "source": [
    "train_dataset = FakeNewsDataset(train_df, tokenizer, 64)\n",
    "val_dataset = FakeNewsDataset(val_df, tokenizer, 64)\n",
    "test_dataset = FakeNewsDataset(test_df, tokenizer, 64)\n",
    "\n",
    "train_loader = DataLoader(train_dataset, batch_size=32, shuffle=True)\n",
    "val_loader = DataLoader(val_dataset, batch_size=32, shuffle=False)\n",
    "test_loader = DataLoader(test_dataset, batch_size=32, shuffle=False)"
   ]
  },
  {
   "cell_type": "markdown",
   "metadata": {},
   "source": [
    "## Model Arcitecture"
   ]
  },
  {
   "cell_type": "code",
   "execution_count": 7,
   "metadata": {},
   "outputs": [],
   "source": [
    "class LSTM(nn.Module):\n",
    "    def __init__(self, vocab_size, embedding_dim, hidden_dim, output_dim):\n",
    "        super(LSTM, self).__init__()\n",
    "        self.embedding = nn.Embedding(vocab_size, embedding_dim)\n",
    "        self.lstm = nn.LSTM(embedding_dim, hidden_dim, batch_first=True, num_layers=2, dropout=0.2, bidirectional=True)\n",
    "        self.batchnorm = nn.BatchNorm1d(hidden_dim * 2)\n",
    "        self.fc = nn.Linear(hidden_dim * 2, output_dim)\n",
    "\n",
    "    def forward(self, x):\n",
    "        embedded = self.embedding(x)\n",
    "        lstm_out, _ = self.lstm(embedded) # Don't need to save the final hidden states from the LSTM block\n",
    "        lstm_out = self.batchnorm(lstm_out.permute(0, 2, 1)).permute(0, 2, 1)\n",
    "        out = self.fc(lstm_out[:, -1, :])\n",
    "        return out"
   ]
  },
  {
   "cell_type": "markdown",
   "metadata": {},
   "source": [
    "## Train and Test Loops"
   ]
  },
  {
   "cell_type": "code",
   "execution_count": 8,
   "metadata": {},
   "outputs": [],
   "source": [
    "def trainloop(dataloader, model, loss_func, optimizer):\n",
    "    device = 'cuda' if torch.cuda.is_available() else 'cpu'\n",
    "    num_batches = len(dataloader)\n",
    "    train_loss, train_acc = 0. , 0.\n",
    "    model.train()\n",
    "    for inputs, labels in dataloader:\n",
    "        inputs = inputs.squeeze(1).to(device)\n",
    "        labels = labels.to(device)\n",
    "\n",
    "        optimizer.zero_grad()\n",
    "        outputs = model(inputs)\n",
    "        loss = loss_func(outputs, labels)\n",
    "        loss.backward()\n",
    "        optimizer.step()\n",
    "\n",
    "        train_loss += loss.item()\n",
    "        train_acc += (outputs.argmax(dim=1) == labels).sum().item()\n",
    "    return train_loss / num_batches, train_acc / len(dataloader.dataset)\n",
    "    \n",
    "\n",
    "def testloop(dataloader, model, loss_func):\n",
    "    device = 'cuda' if torch.cuda.is_available() else 'cpu'\n",
    "    num_batches = len(dataloader)\n",
    "    test_loss, test_acc = 0. , 0.\n",
    "    model.eval()\n",
    "    with torch.no_grad():\n",
    "        for inputs, labels in dataloader:\n",
    "            inputs = inputs.squeeze(1).to(device)\n",
    "            labels = labels.to(device)\n",
    "\n",
    "            outputs = model(inputs)\n",
    "            loss = loss_func(outputs, labels)\n",
    "\n",
    "            test_loss += loss.item()\n",
    "            test_acc += (outputs.argmax(dim=1) == labels).sum().item()\n",
    "    return test_loss / num_batches, test_acc / len(dataloader.dataset)"
   ]
  },
  {
   "cell_type": "code",
   "execution_count": 9,
   "metadata": {},
   "outputs": [],
   "source": [
    "# Hyperparameters\n",
    "lr = 1e-4\n",
    "batch_size = 32\n",
    "epochs = 10\n",
    "max_len = 64"
   ]
  },
  {
   "cell_type": "code",
   "execution_count": 10,
   "metadata": {},
   "outputs": [
    {
     "data": {
      "text/plain": [
       "LSTM(\n",
       "  (embedding): Embedding(30522, 128)\n",
       "  (lstm): LSTM(128, 64, batch_first=True)\n",
       "  (fc): Linear(in_features=64, out_features=2, bias=True)\n",
       ")"
      ]
     },
     "execution_count": 10,
     "metadata": {},
     "output_type": "execute_result"
    }
   ],
   "source": [
    "model = LSTM(vocab_size=tokenizer.vocab_size, embedding_dim=128, hidden_dim=64, output_dim=2)\n",
    "optimizer = optim.Adam(model.parameters(), lr=lr)\n",
    "loss_func = nn.CrossEntropyLoss()\n",
    "\n",
    "model.to('cuda' if torch.cuda.is_available() else 'cpu')"
   ]
  },
  {
   "cell_type": "code",
   "execution_count": 11,
   "metadata": {},
   "outputs": [
    {
     "name": "stdout",
     "output_type": "stream",
     "text": [
      "---Epoch 1/10:---\n",
      "Train Loss: 0.6595, Train Acc: 0.5672.\n",
      "Validation Loss: 0.5944, Validation Acc: 0.6998.\n",
      "---Epoch 2/10:---\n",
      "Train Loss: 0.2576, Train Acc: 0.8938.\n",
      "Validation Loss: 0.1726, Validation Acc: 0.9326.\n",
      "---Epoch 3/10:---\n",
      "Train Loss: 0.1316, Train Acc: 0.9512.\n",
      "Validation Loss: 0.1330, Validation Acc: 0.9504.\n",
      "---Epoch 4/10:---\n",
      "Train Loss: 0.1000, Train Acc: 0.9638.\n",
      "Validation Loss: 0.1327, Validation Acc: 0.9549.\n",
      "---Epoch 5/10:---\n",
      "Train Loss: 0.0804, Train Acc: 0.9710.\n",
      "Validation Loss: 0.0985, Validation Acc: 0.9626.\n",
      "---Epoch 6/10:---\n",
      "Train Loss: 0.0653, Train Acc: 0.9771.\n",
      "Validation Loss: 0.0931, Validation Acc: 0.9660.\n",
      "---Epoch 7/10:---\n",
      "Train Loss: 0.0529, Train Acc: 0.9820.\n",
      "Validation Loss: 0.1092, Validation Acc: 0.9596.\n",
      "---Epoch 8/10:---\n",
      "Train Loss: 0.0427, Train Acc: 0.9863.\n",
      "Validation Loss: 0.0945, Validation Acc: 0.9706.\n",
      "---Epoch 9/10:---\n",
      "Train Loss: 0.0336, Train Acc: 0.9897.\n",
      "Validation Loss: 0.0966, Validation Acc: 0.9706.\n",
      "---Epoch 10/10:---\n",
      "Train Loss: 0.0268, Train Acc: 0.9926.\n",
      "Validation Loss: 0.1038, Validation Acc: 0.9725.\n"
     ]
    }
   ],
   "source": [
    "for epoch in range(epochs):\n",
    "    print(f\"---Epoch {epoch+1}/{epochs}:---\")\n",
    "    train_loss, train_acc = trainloop(train_loader, model, loss_func, optimizer)\n",
    "    val_loss, val_acc = testloop(val_loader, model, loss_func)\n",
    "    print(f'Train Loss: {train_loss:.4f}, Train Acc: {train_acc:.4f}.')\n",
    "    print(f'Validation Loss: {val_loss:.4f}, Validation Acc: {val_acc:.4f}.')\n"
   ]
  },
  {
   "cell_type": "code",
   "execution_count": 12,
   "metadata": {},
   "outputs": [
    {
     "name": "stdout",
     "output_type": "stream",
     "text": [
      "Test Loss: 0.09186164992287649, Test Accuracy: 0.9738678544914625\n"
     ]
    }
   ],
   "source": [
    "test_loss, test_acc = testloop(test_loader, model, loss_func)\n",
    "print(f\"Test Loss: {test_loss}, Test Accuracy: {test_acc}\")"
   ]
  },
  {
   "cell_type": "code",
   "execution_count": 14,
   "metadata": {},
   "outputs": [],
   "source": [
    "torch.save(model.state_dict(), \"./model_parameters/LSTM_single_block.pth\")"
   ]
  }
 ],
 "metadata": {
  "kernelspec": {
   "display_name": "DS6100",
   "language": "python",
   "name": "python3"
  },
  "language_info": {
   "codemirror_mode": {
    "name": "ipython",
    "version": 3
   },
   "file_extension": ".py",
   "mimetype": "text/x-python",
   "name": "python",
   "nbconvert_exporter": "python",
   "pygments_lexer": "ipython3",
   "version": "3.12.2"
  }
 },
 "nbformat": 4,
 "nbformat_minor": 2
}

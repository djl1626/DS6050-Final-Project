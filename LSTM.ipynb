{
 "cells": [
  {
   "cell_type": "code",
   "execution_count": 19,
   "metadata": {},
   "outputs": [],
   "source": [
    "import pandas as pd\n",
    "import numpy as np\n",
    "import matplotlib.pyplot as plt\n",
    "\n",
    "import torch\n",
    "import torch.nn as nn\n",
    "import torch.optim as optim\n",
    "from torch.utils.data import DataLoader, Dataset\n",
    "from sklearn.model_selection import train_test_split\n",
    "from transformers import BertTokenizer"
   ]
  },
  {
   "cell_type": "markdown",
   "metadata": {},
   "source": [
    "## Data Preprocessing"
   ]
  },
  {
   "cell_type": "code",
   "execution_count": 2,
   "metadata": {},
   "outputs": [],
   "source": [
    "# Load in the data\n",
    "kaggle_fake_news = pd.read_csv('Data/kaggle/a2_Fake.csv')\n",
    "kaggle_true_news = pd.read_csv('Data/kaggle/a1_True.csv')\n",
    "\n",
    "# Add labels to each dataframe where 1 is fake and 0 is true\n",
    "kaggle_fake_news['label'] = 1\n",
    "kaggle_true_news['label'] = 0\n",
    "\n",
    "# Concatenate the two dataframes\n",
    "news = pd.concat([kaggle_fake_news, kaggle_true_news], axis=0)"
   ]
  },
  {
   "cell_type": "code",
   "execution_count": 3,
   "metadata": {},
   "outputs": [],
   "source": [
    "pf_fake = pd.read_csv('Data/politifact/politifact_fake.csv')\n",
    "pf_true = pd.read_csv('Data/politifact/politifact_real.csv')\n",
    "pf_fake['label'] = 1\n",
    "pf_true['label'] = 0\n",
    "# Concatenate the two dataframes\n",
    "politifact = pd.concat([pf_fake, pf_true], axis=0)"
   ]
  },
  {
   "cell_type": "code",
   "execution_count": 4,
   "metadata": {},
   "outputs": [],
   "source": [
    "# Split the data into training, validation, and testing sets\n",
    "train_df, temp_df = train_test_split(news, test_size=0.3, random_state=42, shuffle=True)\n",
    "val_df, test_df = train_test_split(temp_df, test_size=0.5, random_state=42, shuffle=True)"
   ]
  },
  {
   "cell_type": "code",
   "execution_count": 2,
   "metadata": {},
   "outputs": [],
   "source": [
    "tokenizer = BertTokenizer.from_pretrained('bert-base-uncased')"
   ]
  },
  {
   "cell_type": "code",
   "execution_count": 3,
   "metadata": {},
   "outputs": [],
   "source": [
    "class FakeNewsDataset(Dataset):\n",
    "    def __init__(self, dataframe, tokenizer, max_length):\n",
    "        self.inputs = dataframe['title']\n",
    "        self.labels = dataframe['label']\n",
    "        self.tokenizer = tokenizer\n",
    "        self.max_length = max_length\n",
    "\n",
    "    def __len__(self):\n",
    "        return len(self.inputs)\n",
    "    \n",
    "    def __getitem__(self, idx):\n",
    "        input_text = self.inputs.iloc[idx]\n",
    "        encoding = self.tokenizer(\n",
    "            input_text,\n",
    "            max_length=self.max_length,\n",
    "            truncation=True,\n",
    "            padding='max_length',\n",
    "            return_tensors='pt'\n",
    "        )\n",
    "        label = torch.tensor(self.labels.iloc[idx], dtype=torch.long)\n",
    "        \n",
    "        return {\n",
    "            'input_ids': encoding['input_ids'].squeeze(0),  # shape: [max_length]\n",
    "            'label': label\n",
    "        }"
   ]
  },
  {
   "cell_type": "code",
   "execution_count": 7,
   "metadata": {},
   "outputs": [],
   "source": [
    "train_dataset = FakeNewsDataset(train_df, tokenizer, 64)\n",
    "val_dataset = FakeNewsDataset(val_df, tokenizer, 64)\n",
    "test_dataset = FakeNewsDataset(test_df, tokenizer, 64)\n",
    "\n",
    "train_loader = DataLoader(train_dataset, batch_size=32, shuffle=True)\n",
    "val_loader = DataLoader(val_dataset, batch_size=32, shuffle=False)\n",
    "test_loader = DataLoader(test_dataset, batch_size=32, shuffle=False)"
   ]
  },
  {
   "cell_type": "code",
   "execution_count": 8,
   "metadata": {},
   "outputs": [],
   "source": [
    "pf_test = FakeNewsDataset(politifact, tokenizer, 64)\n",
    "pf_test_loader = DataLoader(pf_test, batch_size=32, shuffle=False)"
   ]
  },
  {
   "cell_type": "markdown",
   "metadata": {},
   "source": [
    "## Model Arcitecture"
   ]
  },
  {
   "cell_type": "code",
   "execution_count": 4,
   "metadata": {},
   "outputs": [],
   "source": [
    "class LSTM(nn.Module):\n",
    "    def __init__(self, vocab_size, embedding_dim, hidden_dim, output_dim):\n",
    "        super(LSTM, self).__init__()\n",
    "        self.embedding = nn.Embedding(vocab_size, embedding_dim)\n",
    "        self.lstm = nn.LSTM(embedding_dim, hidden_dim, batch_first=True, num_layers=2, dropout=0.2, bidirectional=True)\n",
    "        self.batchnorm = nn.BatchNorm1d(hidden_dim * 2)\n",
    "        self.fc = nn.Linear(hidden_dim * 2, output_dim)\n",
    "\n",
    "    def forward(self, x):\n",
    "        embedded = self.embedding(x)\n",
    "        lstm_out, _ = self.lstm(embedded) # Don't need to save the final hidden states from the LSTM block\n",
    "        lstm_out = self.batchnorm(lstm_out.permute(0, 2, 1)).permute(0, 2, 1)\n",
    "        out = self.fc(lstm_out[:, -1, :])\n",
    "        return out"
   ]
  },
  {
   "cell_type": "markdown",
   "metadata": {},
   "source": [
    "## Train and Test Loops"
   ]
  },
  {
   "cell_type": "code",
   "execution_count": 5,
   "metadata": {},
   "outputs": [],
   "source": [
    "def trainloop(dataloader, model, loss_func, optimizer):\n",
    "    device = 'cuda' if torch.cuda.is_available() else 'cpu'\n",
    "    num_batches = len(dataloader)\n",
    "    train_loss, train_acc = 0. , 0.\n",
    "    model.train()\n",
    "    for batch in dataloader:\n",
    "        inputs = batch['input_ids']\n",
    "        labels = batch['label']\n",
    "        inputs = inputs.squeeze(1).to(device)\n",
    "        labels = labels.to(device)\n",
    "\n",
    "        optimizer.zero_grad()\n",
    "        outputs = model(inputs)\n",
    "        loss = loss_func(outputs, labels)\n",
    "        loss.backward()\n",
    "        optimizer.step()\n",
    "\n",
    "        train_loss += loss.item()\n",
    "        train_acc += (outputs.argmax(dim=1) == labels).sum().item()\n",
    "    return train_loss / num_batches, train_acc / len(dataloader.dataset)\n",
    "    \n",
    "\n",
    "def testloop(dataloader, model, loss_func):\n",
    "    device = 'cuda' if torch.cuda.is_available() else 'cpu'\n",
    "    num_batches = len(dataloader)\n",
    "    test_loss, test_acc = 0. , 0.\n",
    "    model.eval()\n",
    "    with torch.no_grad():\n",
    "        for batch in dataloader:\n",
    "            inputs = batch['input_ids']\n",
    "            labels = batch['label']\n",
    "            inputs = inputs.squeeze(1).to(device)\n",
    "            labels = labels.to(device)\n",
    "\n",
    "            outputs = model(inputs)\n",
    "            loss = loss_func(outputs, labels)\n",
    "\n",
    "            test_loss += loss.item()\n",
    "            test_acc += (outputs.argmax(dim=1) == labels).sum().item()\n",
    "    return test_loss / num_batches, test_acc / len(dataloader.dataset)"
   ]
  },
  {
   "cell_type": "code",
   "execution_count": 6,
   "metadata": {},
   "outputs": [],
   "source": [
    "# Hyperparameters\n",
    "lr = 1e-4\n",
    "batch_size = 32\n",
    "epochs = 25\n",
    "max_len = 64"
   ]
  },
  {
   "cell_type": "code",
   "execution_count": 12,
   "metadata": {},
   "outputs": [
    {
     "data": {
      "text/plain": [
       "LSTM(\n",
       "  (embedding): Embedding(30522, 128)\n",
       "  (lstm): LSTM(128, 64, num_layers=2, batch_first=True, dropout=0.2, bidirectional=True)\n",
       "  (batchnorm): BatchNorm1d(128, eps=1e-05, momentum=0.1, affine=True, track_running_stats=True)\n",
       "  (fc): Linear(in_features=128, out_features=2, bias=True)\n",
       ")"
      ]
     },
     "execution_count": 12,
     "metadata": {},
     "output_type": "execute_result"
    }
   ],
   "source": [
    "model = LSTM(vocab_size=tokenizer.vocab_size, embedding_dim=128, hidden_dim=64, output_dim=2)\n",
    "optimizer = optim.Adam(model.parameters(), lr=lr)\n",
    "loss_func = nn.CrossEntropyLoss()\n",
    "\n",
    "model.to('cuda' if torch.cuda.is_available() else 'cpu')"
   ]
  },
  {
   "cell_type": "code",
   "execution_count": 13,
   "metadata": {},
   "outputs": [
    {
     "name": "stdout",
     "output_type": "stream",
     "text": [
      "---Epoch 1/25:---\n",
      "Train Loss: 0.4893, Train Acc: 0.7287.\n",
      "Validation Loss: 0.2916, Validation Acc: 0.8748.\n",
      "---Epoch 2/25:---\n",
      "Train Loss: 0.1979, Train Acc: 0.9205.\n",
      "Validation Loss: 0.2015, Validation Acc: 0.9171.\n",
      "---Epoch 3/25:---\n",
      "Train Loss: 0.1217, Train Acc: 0.9553.\n",
      "Validation Loss: 0.1489, Validation Acc: 0.9498.\n",
      "---Epoch 4/25:---\n",
      "Train Loss: 0.0951, Train Acc: 0.9651.\n",
      "Validation Loss: 0.1199, Validation Acc: 0.9568.\n",
      "---Epoch 5/25:---\n",
      "Train Loss: 0.0784, Train Acc: 0.9717.\n",
      "Validation Loss: 0.1197, Validation Acc: 0.9547.\n",
      "---Epoch 6/25:---\n",
      "Train Loss: 0.0619, Train Acc: 0.9782.\n",
      "Validation Loss: 0.1194, Validation Acc: 0.9589.\n",
      "---Epoch 7/25:---\n",
      "Train Loss: 0.0518, Train Acc: 0.9827.\n",
      "Validation Loss: 0.1004, Validation Acc: 0.9678.\n",
      "---Epoch 8/25:---\n",
      "Train Loss: 0.0405, Train Acc: 0.9872.\n",
      "Validation Loss: 0.1387, Validation Acc: 0.9587.\n",
      "No improvement in validation loss for 1 epoch(s).\n",
      "---Epoch 9/25:---\n",
      "Train Loss: 0.0313, Train Acc: 0.9898.\n",
      "Validation Loss: 0.1130, Validation Acc: 0.9657.\n",
      "No improvement in validation loss for 2 epoch(s).\n",
      "---Epoch 10/25:---\n",
      "Train Loss: 0.0240, Train Acc: 0.9927.\n",
      "Validation Loss: 0.1239, Validation Acc: 0.9691.\n",
      "No improvement in validation loss for 3 epoch(s).\n",
      "Early stopping triggered at epoch 10. Best validation loss: 0.1004 at epoch 7\n"
     ]
    }
   ],
   "source": [
    "# Initialize lists before training\n",
    "train_losses = []\n",
    "train_accuracies = []\n",
    "val_losses = []\n",
    "val_accuracies = []\n",
    "\n",
    "np.random.seed(42)\n",
    "\n",
    "# Early stopping parameters\n",
    "best_val_loss = float('inf')\n",
    "patience = 3\n",
    "counter = 0\n",
    "best_epoch = 0\n",
    "state_dict_to_save = model.state_dict()\n",
    "\n",
    "for epoch in range(epochs):\n",
    "    print(f\"---Epoch {epoch+1}/{epochs}:---\")\n",
    "\n",
    "    train_loss, train_acc = trainloop(train_loader, model, loss_func, optimizer)\n",
    "    val_loss, val_acc = testloop(val_loader, model, loss_func)\n",
    "\n",
    "    # Store results\n",
    "    train_losses.append(train_loss)\n",
    "    train_accuracies.append(train_acc)\n",
    "    val_losses.append(val_loss)\n",
    "    val_accuracies.append(val_acc)\n",
    "\n",
    "    # Print progress\n",
    "    print(f'Train Loss: {train_loss:.4f}, Train Acc: {train_acc:.4f}.')\n",
    "    print(f'Validation Loss: {val_loss:.4f}, Validation Acc: {val_acc:.4f}.')\n",
    "\n",
    "    # Early stopping check\n",
    "    if val_loss < best_val_loss - 1e-6:  # Add small epsilon to avoid floating point issues\n",
    "        best_val_loss = val_loss\n",
    "        best_epoch = epoch\n",
    "        state_dict_to_save = model.state_dict()\n",
    "        counter = 0  # Reset counter if improvement\n",
    "    else:\n",
    "        counter += 1\n",
    "        print(f\"No improvement in validation loss for {counter} epoch(s).\")\n",
    "        if counter >= patience:\n",
    "            print(f\"Early stopping triggered at epoch {epoch+1}. Best validation loss: {best_val_loss:.4f} at epoch {best_epoch+1}\")\n",
    "            break\n"
   ]
  },
  {
   "cell_type": "code",
   "execution_count": 14,
   "metadata": {},
   "outputs": [
    {
     "data": {
      "image/png": "[encoded data removed]",
      "text/plain": [
       "<Figure size 1000x400 with 2 Axes>"
      ]
     },
     "metadata": {},
     "output_type": "display_data"
    }
   ],
   "source": [
    "# Plotting loss\n",
    "plt.figure(figsize=(10, 4))\n",
    "plt.subplot(1, 2, 1)\n",
    "plt.plot(train_losses, label='Train Loss')\n",
    "plt.plot(val_losses, label='Validation Loss')\n",
    "plt.xlabel('Epoch')\n",
    "plt.ylabel('Loss')\n",
    "plt.title('Loss over Epochs')\n",
    "plt.legend()\n",
    "\n",
    "# Plotting accuracy\n",
    "plt.subplot(1, 2, 2)\n",
    "plt.plot(train_accuracies, label='Train Acc')\n",
    "plt.plot(val_accuracies, label='Validation Acc')\n",
    "plt.xlabel('Epoch')\n",
    "plt.ylabel('Accuracy')\n",
    "plt.title('Accuracy over Epochs')\n",
    "plt.legend()\n",
    "\n",
    "plt.tight_layout()\n",
    "plt.show()\n"
   ]
  },
  {
   "cell_type": "markdown",
   "metadata": {},
   "source": [
    "We see overfitting when increasing the trainig Epochs. This is not surprising as LSTM blocks are prone to overfitting. Even with adding dropouts in the LSTM block we see overfitting at about the 10th epoch of training."
   ]
  },
  {
   "cell_type": "code",
   "execution_count": 15,
   "metadata": {},
   "outputs": [
    {
     "data": {
      "text/plain": [
       "<All keys matched successfully>"
      ]
     },
     "execution_count": 15,
     "metadata": {},
     "output_type": "execute_result"
    }
   ],
   "source": [
    "model.load_state_dict(state_dict_to_save)"
   ]
  },
  {
   "cell_type": "code",
   "execution_count": 16,
   "metadata": {},
   "outputs": [
    {
     "name": "stdout",
     "output_type": "stream",
     "text": [
      "Test Loss: 1.5640305443243547, Test Accuracy: 0.7026515151515151\n"
     ]
    }
   ],
   "source": [
    "test_loss, test_acc = testloop(pf_test_loader, model, loss_func)\n",
    "print(f\"Test Loss: {test_loss}, Test Accuracy: {test_acc}\")"
   ]
  },
  {
   "cell_type": "markdown",
   "metadata": {},
   "source": [
    "The model trainied on only Kaggle data underperforms heavily on the politifact dataset. This likely has to do with the datasets being different in terms of relevancy and content."
   ]
  },
  {
   "cell_type": "code",
   "execution_count": 17,
   "metadata": {},
   "outputs": [],
   "source": [
    "torch.save(model.state_dict(), \"./model_parameters/LSTM_bidirectional-kaggle-train.pth\")"
   ]
  },
  {
   "cell_type": "markdown",
   "metadata": {},
   "source": [
    "### Train on Politifact and Kaggle"
   ]
  },
  {
   "cell_type": "code",
   "execution_count": 7,
   "metadata": {},
   "outputs": [],
   "source": [
    "# Load in the data\n",
    "kaggle_fake_news = pd.read_csv('Data/kaggle/a2_Fake.csv')\n",
    "kaggle_true_news = pd.read_csv('Data/kaggle/a1_True.csv')\n",
    "\n",
    "# Add labels to each dataframe where 1 is fake and 0 is true\n",
    "kaggle_fake_news['label'] = 1\n",
    "kaggle_true_news['label'] = 0\n",
    "\n",
    "# Concatenate the two dataframes\n",
    "news = pd.concat([kaggle_fake_news, kaggle_true_news], axis=0)[['title', 'label']]"
   ]
  },
  {
   "cell_type": "code",
   "execution_count": 8,
   "metadata": {},
   "outputs": [],
   "source": [
    "pf_fake = pd.read_csv('Data/politifact/politifact_fake.csv')\n",
    "pf_true = pd.read_csv('Data/politifact/politifact_real.csv')\n",
    "pf_fake['label'] = 1\n",
    "pf_true['label'] = 0\n",
    "# Concatenate the two dataframes\n",
    "politifact = pd.concat([pf_fake, pf_true], axis=0)[['title', 'label']]"
   ]
  },
  {
   "cell_type": "code",
   "execution_count": 9,
   "metadata": {},
   "outputs": [
    {
     "name": "stdout",
     "output_type": "stream",
     "text": [
      "Proportion of Fake News labels in Kaggle: 0.52.\n",
      "Proportion of Fake News labels in Politifact: 0.41.\n"
     ]
    }
   ],
   "source": [
    "print(f\"Proportion of Fake News labels in Kaggle: {round(sum(news['label']) / len(news), 2)}.\")\n",
    "print(f\"Proportion of Fake News labels in Politifact: {round(sum(politifact['label']) / len(politifact), 2)}.\")"
   ]
  },
  {
   "cell_type": "code",
   "execution_count": 10,
   "metadata": {},
   "outputs": [],
   "source": [
    "kaggle_train, kaggle_test = train_test_split(news, test_size=0.15, random_state=42, shuffle=True)\n",
    "politifact_train, politifact_test = train_test_split(politifact, test_size=0.15, random_state=42, shuffle=True)\n",
    "kaggle_train, kaggle_val = train_test_split(kaggle_train, test_size=0.15, random_state=42, shuffle=True)\n",
    "politifact_train, politifact_val = train_test_split(politifact_train, test_size=0.15, random_state=42, shuffle=True)\n",
    "full_train = pd.concat([kaggle_train, politifact_train], axis=0)\n",
    "full_val = pd.concat([kaggle_val, politifact_val], axis=0)\n",
    "full_test = pd.concat([kaggle_test, politifact_test], axis=0)"
   ]
  },
  {
   "cell_type": "code",
   "execution_count": 11,
   "metadata": {},
   "outputs": [],
   "source": [
    "tokenizer = BertTokenizer.from_pretrained('bert-base-uncased')"
   ]
  },
  {
   "cell_type": "code",
   "execution_count": 12,
   "metadata": {},
   "outputs": [],
   "source": [
    "train_dataset = FakeNewsDataset(full_train, tokenizer, 64)\n",
    "val_dataset = FakeNewsDataset(full_val, tokenizer, 64)\n",
    "kaggle_test_dataset = FakeNewsDataset(kaggle_test, tokenizer, 64)\n",
    "politifact_test_dataset = FakeNewsDataset(politifact_test, tokenizer, 64)\n",
    "\n",
    "train_loader = DataLoader(train_dataset, batch_size=32, shuffle=True)\n",
    "val_loader = DataLoader(val_dataset, batch_size=32, shuffle=False)\n",
    "kaggle_test_loader = DataLoader(kaggle_test_dataset, batch_size=32, shuffle=False)\n",
    "politifact_test_loader = DataLoader(politifact_test_dataset, batch_size=32, shuffle=False)"
   ]
  },
  {
   "cell_type": "code",
   "execution_count": 13,
   "metadata": {},
   "outputs": [],
   "source": [
    "# Hyperparameters\n",
    "lr = 1e-4\n",
    "batch_size = 32\n",
    "epochs = 25\n",
    "max_len = 64"
   ]
  },
  {
   "cell_type": "code",
   "execution_count": 14,
   "metadata": {},
   "outputs": [
    {
     "data": {
      "text/plain": [
       "LSTM(\n",
       "  (embedding): Embedding(30522, 128)\n",
       "  (lstm): LSTM(128, 64, num_layers=2, batch_first=True, dropout=0.2, bidirectional=True)\n",
       "  (batchnorm): BatchNorm1d(128, eps=1e-05, momentum=0.1, affine=True, track_running_stats=True)\n",
       "  (fc): Linear(in_features=128, out_features=2, bias=True)\n",
       ")"
      ]
     },
     "execution_count": 14,
     "metadata": {},
     "output_type": "execute_result"
    }
   ],
   "source": [
    "model = LSTM(vocab_size=tokenizer.vocab_size, embedding_dim=128, hidden_dim=64, output_dim=2)\n",
    "optimizer = optim.Adam(model.parameters(), lr=lr)\n",
    "loss_func = nn.CrossEntropyLoss()\n",
    "\n",
    "model.to('cuda' if torch.cuda.is_available() else 'cpu')"
   ]
  },
  {
   "cell_type": "code",
   "execution_count": 15,
   "metadata": {},
   "outputs": [
    {
     "name": "stdout",
     "output_type": "stream",
     "text": [
      "---Epoch 1/25:---\n",
      "Train Loss: 0.6966, Train Acc: 0.5164.\n",
      "Validation Loss: 0.6948, Validation Acc: 0.5225.\n",
      "---Epoch 2/25:---\n",
      "Train Loss: 0.6901, Train Acc: 0.5337.\n",
      "Validation Loss: 0.6941, Validation Acc: 0.5225.\n",
      "---Epoch 3/25:---\n",
      "Train Loss: 0.6879, Train Acc: 0.5417.\n",
      "Validation Loss: 0.6921, Validation Acc: 0.5225.\n",
      "---Epoch 4/25:---\n",
      "Train Loss: 0.3208, Train Acc: 0.8326.\n",
      "Validation Loss: 0.1636, Validation Acc: 0.9406.\n",
      "---Epoch 5/25:---\n",
      "Train Loss: 0.1275, Train Acc: 0.9543.\n",
      "Validation Loss: 0.1238, Validation Acc: 0.9558.\n",
      "---Epoch 6/25:---\n",
      "Train Loss: 0.1034, Train Acc: 0.9639.\n",
      "Validation Loss: 0.1165, Validation Acc: 0.9575.\n",
      "---Epoch 7/25:---\n",
      "Train Loss: 0.0858, Train Acc: 0.9714.\n",
      "Validation Loss: 0.1061, Validation Acc: 0.9613.\n",
      "---Epoch 8/25:---\n",
      "Train Loss: 0.0705, Train Acc: 0.9774.\n",
      "Validation Loss: 0.1182, Validation Acc: 0.9575.\n",
      "No improvement in validation loss for 1 epoch(s).\n",
      "---Epoch 9/25:---\n",
      "Train Loss: 0.0585, Train Acc: 0.9814.\n",
      "Validation Loss: 0.1009, Validation Acc: 0.9640.\n",
      "---Epoch 10/25:---\n",
      "Train Loss: 0.0479, Train Acc: 0.9860.\n",
      "Validation Loss: 0.1029, Validation Acc: 0.9655.\n",
      "No improvement in validation loss for 1 epoch(s).\n",
      "---Epoch 11/25:---\n",
      "Train Loss: 0.0381, Train Acc: 0.9891.\n",
      "Validation Loss: 0.0999, Validation Acc: 0.9671.\n",
      "---Epoch 12/25:---\n",
      "Train Loss: 0.0294, Train Acc: 0.9925.\n",
      "Validation Loss: 0.1267, Validation Acc: 0.9676.\n",
      "No improvement in validation loss for 1 epoch(s).\n",
      "---Epoch 13/25:---\n",
      "Train Loss: 0.0245, Train Acc: 0.9941.\n",
      "Validation Loss: 0.1164, Validation Acc: 0.9689.\n",
      "No improvement in validation loss for 2 epoch(s).\n",
      "---Epoch 14/25:---\n",
      "Train Loss: 0.0207, Train Acc: 0.9953.\n",
      "Validation Loss: 0.1143, Validation Acc: 0.9700.\n",
      "No improvement in validation loss for 3 epoch(s).\n",
      "Early stopping triggered at epoch 14. Best validation loss: 0.0999 at epoch 11\n"
     ]
    }
   ],
   "source": [
    "# Initialize lists before training\n",
    "train_losses = []\n",
    "train_accuracies = []\n",
    "val_losses = []\n",
    "val_accuracies = []\n",
    "\n",
    "np.random.seed(42)\n",
    "\n",
    "# Early stopping parameters\n",
    "best_val_loss = float('inf')\n",
    "patience = 3\n",
    "counter = 0\n",
    "best_epoch = 0\n",
    "state_dict_to_save = model.state_dict()\n",
    "\n",
    "for epoch in range(epochs):\n",
    "    print(f\"---Epoch {epoch+1}/{epochs}:---\")\n",
    "\n",
    "    train_loss, train_acc = trainloop(train_loader, model, loss_func, optimizer)\n",
    "    val_loss, val_acc = testloop(val_loader, model, loss_func)\n",
    "\n",
    "    # Store results\n",
    "    train_losses.append(train_loss)\n",
    "    train_accuracies.append(train_acc)\n",
    "    val_losses.append(val_loss)\n",
    "    val_accuracies.append(val_acc)\n",
    "\n",
    "    # Print progress\n",
    "    print(f'Train Loss: {train_loss:.4f}, Train Acc: {train_acc:.4f}.')\n",
    "    print(f'Validation Loss: {val_loss:.4f}, Validation Acc: {val_acc:.4f}.')\n",
    "\n",
    "    # Early stopping check\n",
    "    if val_loss < best_val_loss - 1e-6:  # Add small epsilon to avoid floating point issues\n",
    "        best_val_loss = val_loss\n",
    "        best_epoch = epoch\n",
    "        state_dict_to_save = model.state_dict()\n",
    "        counter = 0  # Reset counter if improvement\n",
    "    else:\n",
    "        counter += 1\n",
    "        print(f\"No improvement in validation loss for {counter} epoch(s).\")\n",
    "        if counter >= patience:\n",
    "            print(f\"Early stopping triggered at epoch {epoch+1}. Best validation loss: {best_val_loss:.4f} at epoch {best_epoch+1}\")\n",
    "            break\n"
   ]
  },
  {
   "cell_type": "code",
   "execution_count": 17,
   "metadata": {},
   "outputs": [
    {
     "data": {
      "image/png": "[encoded data removed]",
      "text/plain": [
       "<Figure size 1000x400 with 2 Axes>"
      ]
     },
     "metadata": {},
     "output_type": "display_data"
    }
   ],
   "source": [
    "# Plotting loss\n",
    "plt.figure(figsize=(10, 4))\n",
    "plt.subplot(1, 2, 1)\n",
    "plt.plot(train_losses, label='Train Loss')\n",
    "plt.plot(val_losses, label='Validation Loss')\n",
    "plt.xlabel('Epoch')\n",
    "plt.ylabel('Loss')\n",
    "plt.title('Loss over Epochs')\n",
    "plt.legend()\n",
    "\n",
    "# Plotting accuracy\n",
    "plt.subplot(1, 2, 2)\n",
    "plt.plot(train_accuracies, label='Train Acc')\n",
    "plt.plot(val_accuracies, label='Validation Acc')\n",
    "plt.xlabel('Epoch')\n",
    "plt.ylabel('Accuracy')\n",
    "plt.title('Accuracy over Epochs')\n",
    "plt.legend()\n",
    "\n",
    "plt.tight_layout()\n",
    "plt.show()"
   ]
  },
  {
   "cell_type": "code",
   "execution_count": 18,
   "metadata": {},
   "outputs": [
    {
     "data": {
      "text/plain": [
       "<All keys matched successfully>"
      ]
     },
     "execution_count": 18,
     "metadata": {},
     "output_type": "execute_result"
    }
   ],
   "source": [
    "model.load_state_dict(state_dict_to_save)"
   ]
  },
  {
   "cell_type": "code",
   "execution_count": 20,
   "metadata": {},
   "outputs": [
    {
     "name": "stdout",
     "output_type": "stream",
     "text": [
      "Kaggle Test Loss: 0.11367945337581992, Test Accuracy: 0.9679287305122495\n"
     ]
    }
   ],
   "source": [
    "kaggle_test_loss, kaggle_test_acc = testloop(kaggle_test_loader, model, loss_func)\n",
    "print(f\"Kaggle Test Loss: {kaggle_test_loss}, Test Accuracy: {kaggle_test_acc}\")"
   ]
  },
  {
   "cell_type": "code",
   "execution_count": 21,
   "metadata": {},
   "outputs": [
    {
     "name": "stdout",
     "output_type": "stream",
     "text": [
      "Politifact Test Loss: 0.9469716787338257, Test Accuracy: 0.7610062893081762\n"
     ]
    }
   ],
   "source": [
    "politifact_test_loss, politifact_test_acc = testloop(politifact_test_loader, model, loss_func)\n",
    "print(f\"Politifact Test Loss: {politifact_test_loss}, Test Accuracy: {politifact_test_acc}\")"
   ]
  },
  {
   "cell_type": "markdown",
   "metadata": {},
   "source": [
    "The model performs better on the Politifact dataset when it's included in training. This is expected. However, the improvement is small, likely because the Kaggle dataset is substantially larger than the Politifact dataset. This means that the model is better at learning how to identify Fake News based on the Kaggle dataset compared to the Politifact dataset."
   ]
  },
  {
   "cell_type": "code",
   "execution_count": 22,
   "metadata": {},
   "outputs": [],
   "source": [
    "torch.save(model.state_dict(), './model_parameters/LSTM-bidirectional-both-datasets-training.pth')"
   ]
  },
  {
   "cell_type": "markdown",
   "metadata": {},
   "source": [
    "## Transfer Learning"
   ]
  },
  {
   "cell_type": "markdown",
   "metadata": {},
   "source": [
    "In this section, we will explore transfer learning on the Politifact dataset following training on the Kaggle dataset."
   ]
  },
  {
   "cell_type": "code",
   "execution_count": 23,
   "metadata": {},
   "outputs": [],
   "source": [
    "pf_fake = pd.read_csv('Data/politifact/politifact_fake.csv')\n",
    "pf_true = pd.read_csv('Data/politifact/politifact_real.csv')\n",
    "pf_fake['label'] = 1\n",
    "pf_true['label'] = 0\n",
    "# Concatenate the two dataframes\n",
    "politifact = pd.concat([pf_fake, pf_true], axis=0)"
   ]
  },
  {
   "cell_type": "code",
   "execution_count": 24,
   "metadata": {},
   "outputs": [],
   "source": [
    "# Split the data into training, validation, and testing sets\n",
    "train_df, temp_df = train_test_split(politifact, test_size=0.3, random_state=42, shuffle=True)\n",
    "val_df, test_df = train_test_split(temp_df, test_size=0.5, random_state=42, shuffle=True)"
   ]
  },
  {
   "cell_type": "code",
   "execution_count": 25,
   "metadata": {},
   "outputs": [],
   "source": [
    "tokenizer = BertTokenizer.from_pretrained('bert-base-uncased')\n",
    "train_dataset = FakeNewsDataset(train_df, tokenizer, 64)\n",
    "val_dataset = FakeNewsDataset(val_df, tokenizer, 64)\n",
    "test_dataset = FakeNewsDataset(test_df, tokenizer, 64)\n",
    "\n",
    "train_loader = DataLoader(train_dataset, batch_size=32, shuffle=True)\n",
    "val_loader = DataLoader(val_dataset, batch_size=32, shuffle=False)\n",
    "test_loader = DataLoader(test_dataset, batch_size=32, shuffle=False)"
   ]
  },
  {
   "cell_type": "code",
   "execution_count": 26,
   "metadata": {},
   "outputs": [],
   "source": [
    "# Hyperparameters\n",
    "lr = 1e-4\n",
    "batch_size = 32\n",
    "epochs = 25\n",
    "max_len = 64"
   ]
  },
  {
   "cell_type": "code",
   "execution_count": 27,
   "metadata": {},
   "outputs": [
    {
     "data": {
      "text/plain": [
       "LSTM(\n",
       "  (embedding): Embedding(30522, 128)\n",
       "  (lstm): LSTM(128, 64, num_layers=2, batch_first=True, dropout=0.2, bidirectional=True)\n",
       "  (batchnorm): BatchNorm1d(128, eps=1e-05, momentum=0.1, affine=True, track_running_stats=True)\n",
       "  (fc): Linear(in_features=128, out_features=2, bias=True)\n",
       ")"
      ]
     },
     "execution_count": 27,
     "metadata": {},
     "output_type": "execute_result"
    }
   ],
   "source": [
    "model = LSTM(vocab_size=tokenizer.vocab_size, embedding_dim=128, hidden_dim=64, output_dim=2)\n",
    "model.load_state_dict(torch.load('./model_parameters/LSTM_bidirectional-kaggle-train.pth', map_location='cpu'))\n",
    "optimizer = optim.Adam(model.parameters(), lr=lr)\n",
    "loss_func = nn.CrossEntropyLoss()\n",
    "\n",
    "model.to('cuda' if torch.cuda.is_available() else 'cpu')"
   ]
  },
  {
   "cell_type": "code",
   "execution_count": 28,
   "metadata": {},
   "outputs": [
    {
     "name": "stdout",
     "output_type": "stream",
     "text": [
      "---Epoch 1/25:---\n",
      "Train Loss: 0.9065, Train Acc: 0.7334.\n",
      "Validation Loss: 0.7648, Validation Acc: 0.5443.\n",
      "---Epoch 2/25:---\n",
      "Train Loss: 0.5614, Train Acc: 0.7348.\n",
      "Validation Loss: 0.6161, Validation Acc: 0.7089.\n",
      "---Epoch 3/25:---\n",
      "Train Loss: 0.5244, Train Acc: 0.7402.\n",
      "Validation Loss: 0.6638, Validation Acc: 0.7152.\n",
      "No improvement in validation loss for 1 epoch(s).\n",
      "---Epoch 4/25:---\n",
      "Train Loss: 0.5153, Train Acc: 0.7781.\n",
      "Validation Loss: 0.6484, Validation Acc: 0.7152.\n",
      "No improvement in validation loss for 2 epoch(s).\n",
      "---Epoch 5/25:---\n",
      "Train Loss: 0.5414, Train Acc: 0.7673.\n",
      "Validation Loss: 0.6118, Validation Acc: 0.7342.\n",
      "---Epoch 6/25:---\n",
      "Train Loss: 0.4807, Train Acc: 0.7862.\n",
      "Validation Loss: 0.6283, Validation Acc: 0.7215.\n",
      "No improvement in validation loss for 1 epoch(s).\n",
      "---Epoch 7/25:---\n",
      "Train Loss: 0.4767, Train Acc: 0.7957.\n",
      "Validation Loss: 0.6016, Validation Acc: 0.7215.\n",
      "---Epoch 8/25:---\n",
      "Train Loss: 0.4506, Train Acc: 0.8146.\n",
      "Validation Loss: 0.5771, Validation Acc: 0.7405.\n",
      "---Epoch 9/25:---\n",
      "Train Loss: 0.4369, Train Acc: 0.8187.\n",
      "Validation Loss: 0.5897, Validation Acc: 0.7468.\n",
      "No improvement in validation loss for 1 epoch(s).\n",
      "---Epoch 10/25:---\n",
      "Train Loss: 0.4142, Train Acc: 0.8187.\n",
      "Validation Loss: 0.5702, Validation Acc: 0.7532.\n",
      "---Epoch 11/25:---\n",
      "Train Loss: 0.4048, Train Acc: 0.8417.\n",
      "Validation Loss: 0.5641, Validation Acc: 0.7342.\n",
      "---Epoch 12/25:---\n",
      "Train Loss: 0.3816, Train Acc: 0.8525.\n",
      "Validation Loss: 0.5969, Validation Acc: 0.7468.\n",
      "No improvement in validation loss for 1 epoch(s).\n",
      "---Epoch 13/25:---\n",
      "Train Loss: 0.3753, Train Acc: 0.8512.\n",
      "Validation Loss: 0.5758, Validation Acc: 0.7468.\n",
      "No improvement in validation loss for 2 epoch(s).\n",
      "---Epoch 14/25:---\n",
      "Train Loss: 0.3533, Train Acc: 0.8633.\n",
      "Validation Loss: 0.5867, Validation Acc: 0.7532.\n",
      "No improvement in validation loss for 3 epoch(s).\n",
      "Early stopping triggered at epoch 14. Best validation loss: 0.5641 at epoch 11\n"
     ]
    }
   ],
   "source": [
    "# Initialize lists before training\n",
    "train_losses = []\n",
    "train_accuracies = []\n",
    "val_losses = []\n",
    "val_accuracies = []\n",
    "\n",
    "np.random.seed(42)\n",
    "\n",
    "# Early stopping parameters\n",
    "best_val_loss = float('inf')\n",
    "patience = 3\n",
    "counter = 0\n",
    "best_epoch = 0\n",
    "state_dict_to_save = model.state_dict()\n",
    "\n",
    "for epoch in range(epochs):\n",
    "    print(f\"---Epoch {epoch+1}/{epochs}:---\")\n",
    "\n",
    "    train_loss, train_acc = trainloop(train_loader, model, loss_func, optimizer)\n",
    "    val_loss, val_acc = testloop(val_loader, model, loss_func)\n",
    "\n",
    "    # Store results\n",
    "    train_losses.append(train_loss)\n",
    "    train_accuracies.append(train_acc)\n",
    "    val_losses.append(val_loss)\n",
    "    val_accuracies.append(val_acc)\n",
    "\n",
    "    # Print progress\n",
    "    print(f'Train Loss: {train_loss:.4f}, Train Acc: {train_acc:.4f}.')\n",
    "    print(f'Validation Loss: {val_loss:.4f}, Validation Acc: {val_acc:.4f}.')\n",
    "\n",
    "    # Early stopping check\n",
    "    if val_loss < best_val_loss - 1e-6:  # Add small epsilon to avoid floating point issues\n",
    "        best_val_loss = val_loss\n",
    "        best_epoch = epoch\n",
    "        state_dict_to_save = model.state_dict()\n",
    "        counter = 0  # Reset counter if improvement\n",
    "    else:\n",
    "        counter += 1\n",
    "        print(f\"No improvement in validation loss for {counter} epoch(s).\")\n",
    "        if counter >= patience:\n",
    "            print(f\"Early stopping triggered at epoch {epoch+1}. Best validation loss: {best_val_loss:.4f} at epoch {best_epoch+1}\")\n",
    "            break\n"
   ]
  },
  {
   "cell_type": "code",
   "execution_count": 29,
   "metadata": {},
   "outputs": [
    {
     "name": "stdout",
     "output_type": "stream",
     "text": [
      "Politifact Test Loss: 0.5694141447544098, Test Accuracy: 0.7547169811320755\n"
     ]
    }
   ],
   "source": [
    "test_loss, test_acc = testloop(test_loader, model, loss_func)\n",
    "print(f\"Politifact Test Loss: {test_loss}, Test Accuracy: {test_acc}\")"
   ]
  },
  {
   "cell_type": "markdown",
   "metadata": {},
   "source": [
    "Transfer learning does not help the model improve on the Politifact dataset."
   ]
  },
  {
   "cell_type": "code",
   "execution_count": 30,
   "metadata": {},
   "outputs": [],
   "source": [
    "torch.save(model.state_dict(), \"./model_parameters/LSTM_bidirectional-transfer-learning.pth\")"
   ]
  }
 ],
 "metadata": {
  "kernelspec": {
   "display_name": "DS6050",
   "language": "python",
   "name": "python3"
  },
  "language_info": {
   "codemirror_mode": {
    "name": "ipython",
    "version": 3
   },
   "file_extension": ".py",
   "mimetype": "text/x-python",
   "name": "python",
   "nbconvert_exporter": "python",
   "pygments_lexer": "ipython3",
   "version": "3.13.2"
  }
 },
 "nbformat": 4,
 "nbformat_minor": 2
}

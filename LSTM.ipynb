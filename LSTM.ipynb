{
 "cells": [
  {
   "cell_type": "code",
   "execution_count": 1,
   "metadata": {},
   "outputs": [
    {
     "name": "stderr",
     "output_type": "stream",
     "text": [
      "/home/skk8kc/.conda/envs/DS6050/lib/python3.13/site-packages/tqdm/auto.py:21: TqdmWarning: IProgress not found. Please update jupyter and ipywidgets. See https://ipywidgets.readthedocs.io/en/stable/user_install.html\n",
      "  from .autonotebook import tqdm as notebook_tqdm\n"
     ]
    }
   ],
   "source": [
    "import pandas as pd\n",
    "import numpy as np\n",
    "import matplotlib.pyplot as plt\n",
    "\n",
    "import torch\n",
    "import torch.nn as nn\n",
    "import torch.optim as optim\n",
    "from torch.utils.data import DataLoader, Dataset\n",
    "from sklearn.model_selection import train_test_split\n",
    "from transformers import BertTokenizer"
   ]
  },
  {
   "cell_type": "markdown",
   "metadata": {},
   "source": [
    "## Data Preprocessing"
   ]
  },
  {
   "cell_type": "code",
   "execution_count": 2,
   "metadata": {},
   "outputs": [],
   "source": [
    "# Load in the data\n",
    "fake_news = pd.read_csv('data/a2_Fake.csv')\n",
    "true_news = pd.read_csv('data/a1_True.csv')\n",
    "\n",
    "# Add labels to each dataframe where 1 is fake and 0 is true\n",
    "fake_news['label'] = 1\n",
    "true_news['label'] = 0\n",
    "\n",
    "# Concatenate the two dataframes\n",
    "news = pd.concat([fake_news, true_news], axis=0)"
   ]
  },
  {
   "cell_type": "code",
   "execution_count": 3,
   "metadata": {},
   "outputs": [],
   "source": [
    "# Split the data into training, validation, and testing sets\n",
    "train_df, temp_df = train_test_split(news, test_size=0.3, random_state=42, shuffle=True)\n",
    "val_df, test_df = train_test_split(temp_df, test_size=0.5, random_state=42, shuffle=True)"
   ]
  },
  {
   "cell_type": "code",
   "execution_count": 4,
   "metadata": {},
   "outputs": [],
   "source": [
    "tokenizer = BertTokenizer.from_pretrained('bert-base-uncased')"
   ]
  },
  {
   "cell_type": "code",
   "execution_count": 15,
   "metadata": {},
   "outputs": [],
   "source": [
    "class FakeNewsDataset(Dataset):\n",
    "    def __init__(self, dataframe, tokenizer, max_length):\n",
    "        self.inputs = dataframe['title']\n",
    "        self.labels = dataframe['label']\n",
    "        self.tokenizer = tokenizer\n",
    "        self.max_length = max_length\n",
    "\n",
    "    def __len__(self):\n",
    "        return len(self.inputs)\n",
    "    \n",
    "    def __getitem__(self, idx):\n",
    "        input_text = self.inputs.iloc[idx]\n",
    "        encoding = self.tokenizer(\n",
    "            input_text,\n",
    "            max_length=self.max_length,\n",
    "            truncation=True,\n",
    "            padding='max_length',\n",
    "            return_tensors='pt'\n",
    "        )\n",
    "        label = torch.tensor(self.labels.iloc[idx], dtype=torch.long)\n",
    "        \n",
    "        return {\n",
    "            'input_ids': encoding['input_ids'].squeeze(0),  # shape: [max_length]\n",
    "            'label': label\n",
    "        }"
   ]
  },
  {
   "cell_type": "code",
   "execution_count": 16,
   "metadata": {},
   "outputs": [],
   "source": [
    "train_dataset = FakeNewsDataset(train_df, tokenizer, 64)\n",
    "val_dataset = FakeNewsDataset(val_df, tokenizer, 64)\n",
    "test_dataset = FakeNewsDataset(test_df, tokenizer, 64)\n",
    "\n",
    "train_loader = DataLoader(train_dataset, batch_size=32, shuffle=True)\n",
    "val_loader = DataLoader(val_dataset, batch_size=32, shuffle=False)\n",
    "test_loader = DataLoader(test_dataset, batch_size=32, shuffle=False)"
   ]
  },
  {
   "cell_type": "markdown",
   "metadata": {},
   "source": [
    "## Model Arcitecture"
   ]
  },
  {
   "cell_type": "code",
   "execution_count": 18,
   "metadata": {},
   "outputs": [],
   "source": [
    "class LSTM(nn.Module):\n",
    "    def __init__(self, vocab_size, embedding_dim, hidden_dim, output_dim):\n",
    "        super(LSTM, self).__init__()\n",
    "        self.embedding = nn.Embedding(vocab_size, embedding_dim)\n",
    "        self.lstm = nn.LSTM(embedding_dim, hidden_dim, batch_first=True, num_layers=2, dropout=0.2, bidirectional=True)\n",
    "        self.batchnorm = nn.BatchNorm1d(hidden_dim * 2)\n",
    "        self.fc = nn.Linear(hidden_dim * 2, output_dim)\n",
    "\n",
    "    def forward(self, x):\n",
    "        embedded = self.embedding(x)\n",
    "        lstm_out, _ = self.lstm(embedded) # Don't need to save the final hidden states from the LSTM block\n",
    "        lstm_out = self.batchnorm(lstm_out.permute(0, 2, 1)).permute(0, 2, 1)\n",
    "        out = self.fc(lstm_out[:, -1, :])\n",
    "        return out"
   ]
  },
  {
   "cell_type": "markdown",
   "metadata": {},
   "source": [
    "## Train and Test Loops"
   ]
  },
  {
   "cell_type": "code",
   "execution_count": 19,
   "metadata": {},
   "outputs": [],
   "source": [
    "def trainloop(dataloader, model, loss_func, optimizer):\n",
    "    device = 'cuda' if torch.cuda.is_available() else 'cpu'\n",
    "    num_batches = len(dataloader)\n",
    "    train_loss, train_acc = 0. , 0.\n",
    "    model.train()\n",
    "    for batch in dataloader:\n",
    "        inputs = batch['input_ids']\n",
    "        labels = batch['label']\n",
    "        inputs = inputs.squeeze(1).to(device)\n",
    "        labels = labels.to(device)\n",
    "\n",
    "        optimizer.zero_grad()\n",
    "        outputs = model(inputs)\n",
    "        loss = loss_func(outputs, labels)\n",
    "        loss.backward()\n",
    "        optimizer.step()\n",
    "\n",
    "        train_loss += loss.item()\n",
    "        train_acc += (outputs.argmax(dim=1) == labels).sum().item()\n",
    "    return train_loss / num_batches, train_acc / len(dataloader.dataset)\n",
    "    \n",
    "\n",
    "def testloop(dataloader, model, loss_func):\n",
    "    device = 'cuda' if torch.cuda.is_available() else 'cpu'\n",
    "    num_batches = len(dataloader)\n",
    "    test_loss, test_acc = 0. , 0.\n",
    "    model.eval()\n",
    "    with torch.no_grad():\n",
    "        for batch in dataloader:\n",
    "            inputs = batch['input_ids']\n",
    "            labels = batch['label']\n",
    "            inputs = inputs.squeeze(1).to(device)\n",
    "            labels = labels.to(device)\n",
    "\n",
    "            outputs = model(inputs)\n",
    "            loss = loss_func(outputs, labels)\n",
    "\n",
    "            test_loss += loss.item()\n",
    "            test_acc += (outputs.argmax(dim=1) == labels).sum().item()\n",
    "    return test_loss / num_batches, test_acc / len(dataloader.dataset)"
   ]
  },
  {
   "cell_type": "code",
   "execution_count": 26,
   "metadata": {},
   "outputs": [],
   "source": [
    "# Hyperparameters\n",
    "lr = 1e-4\n",
    "batch_size = 32\n",
    "epochs = 25\n",
    "max_len = 64"
   ]
  },
  {
   "cell_type": "code",
   "execution_count": 27,
   "metadata": {},
   "outputs": [
    {
     "data": {
      "text/plain": [
       "LSTM(\n",
       "  (embedding): Embedding(30522, 128)\n",
       "  (lstm): LSTM(128, 64, num_layers=2, batch_first=True, dropout=0.2, bidirectional=True)\n",
       "  (batchnorm): BatchNorm1d(128, eps=1e-05, momentum=0.1, affine=True, track_running_stats=True)\n",
       "  (fc): Linear(in_features=128, out_features=2, bias=True)\n",
       ")"
      ]
     },
     "execution_count": 27,
     "metadata": {},
     "output_type": "execute_result"
    }
   ],
   "source": [
    "model = LSTM(vocab_size=tokenizer.vocab_size, embedding_dim=128, hidden_dim=64, output_dim=2)\n",
    "optimizer = optim.Adam(model.parameters(), lr=lr)\n",
    "loss_func = nn.CrossEntropyLoss()\n",
    "\n",
    "model.to('cuda' if torch.cuda.is_available() else 'cpu')"
   ]
  },
  {
   "cell_type": "code",
   "execution_count": 28,
   "metadata": {},
   "outputs": [
    {
     "name": "stdout",
     "output_type": "stream",
     "text": [
      "---Epoch 1/25:---\n",
      "Train Loss: 0.6976, Train Acc: 0.5152.\n",
      "Validation Loss: 0.6935, Validation Acc: 0.4733.\n",
      "---Epoch 2/25:---\n",
      "Train Loss: 0.4585, Train Acc: 0.7398.\n",
      "Validation Loss: 0.2538, Validation Acc: 0.9066.\n",
      "---Epoch 3/25:---\n",
      "Train Loss: 0.1505, Train Acc: 0.9434.\n",
      "Validation Loss: 0.1434, Validation Acc: 0.9483.\n",
      "---Epoch 4/25:---\n",
      "Train Loss: 0.1034, Train Acc: 0.9623.\n",
      "Validation Loss: 0.1163, Validation Acc: 0.9563.\n",
      "---Epoch 5/25:---\n",
      "Train Loss: 0.0803, Train Acc: 0.9718.\n",
      "Validation Loss: 0.1107, Validation Acc: 0.9596.\n",
      "---Epoch 6/25:---\n",
      "Train Loss: 0.0653, Train Acc: 0.9778.\n",
      "Validation Loss: 0.0985, Validation Acc: 0.9636.\n",
      "---Epoch 7/25:---\n",
      "Train Loss: 0.0517, Train Acc: 0.9830.\n",
      "Validation Loss: 0.1009, Validation Acc: 0.9663.\n",
      "---Epoch 8/25:---\n",
      "Train Loss: 0.0415, Train Acc: 0.9869.\n",
      "Validation Loss: 0.1105, Validation Acc: 0.9648.\n",
      "---Epoch 9/25:---\n",
      "Train Loss: 0.0332, Train Acc: 0.9901.\n",
      "Validation Loss: 0.1092, Validation Acc: 0.9660.\n",
      "---Epoch 10/25:---\n",
      "Train Loss: 0.0254, Train Acc: 0.9927.\n",
      "Validation Loss: 0.1020, Validation Acc: 0.9661.\n",
      "---Epoch 11/25:---\n",
      "Train Loss: 0.0209, Train Acc: 0.9944.\n",
      "Validation Loss: 0.1461, Validation Acc: 0.9651.\n",
      "---Epoch 12/25:---\n",
      "Train Loss: 0.0150, Train Acc: 0.9964.\n",
      "Validation Loss: 0.1355, Validation Acc: 0.9679.\n",
      "---Epoch 13/25:---\n",
      "Train Loss: 0.0113, Train Acc: 0.9979.\n",
      "Validation Loss: 0.1634, Validation Acc: 0.9660.\n",
      "---Epoch 14/25:---\n",
      "Train Loss: 0.0110, Train Acc: 0.9974.\n",
      "Validation Loss: 0.1474, Validation Acc: 0.9621.\n",
      "---Epoch 15/25:---\n",
      "Train Loss: 0.0104, Train Acc: 0.9976.\n",
      "Validation Loss: 0.1688, Validation Acc: 0.9644.\n",
      "---Epoch 16/25:---\n",
      "Train Loss: 0.0086, Train Acc: 0.9980.\n",
      "Validation Loss: 0.1536, Validation Acc: 0.9682.\n",
      "---Epoch 17/25:---\n",
      "Train Loss: 0.0066, Train Acc: 0.9985.\n",
      "Validation Loss: 0.1675, Validation Acc: 0.9688.\n",
      "---Epoch 18/25:---\n",
      "Train Loss: 0.0064, Train Acc: 0.9986.\n",
      "Validation Loss: 0.1669, Validation Acc: 0.9676.\n",
      "---Epoch 19/25:---\n",
      "Train Loss: 0.0051, Train Acc: 0.9988.\n",
      "Validation Loss: 0.1935, Validation Acc: 0.9675.\n",
      "---Epoch 20/25:---\n",
      "Train Loss: 0.0046, Train Acc: 0.9989.\n",
      "Validation Loss: 0.1882, Validation Acc: 0.9678.\n",
      "---Epoch 21/25:---\n",
      "Train Loss: 0.0041, Train Acc: 0.9991.\n",
      "Validation Loss: 0.1980, Validation Acc: 0.9696.\n",
      "---Epoch 22/25:---\n",
      "Train Loss: 0.0037, Train Acc: 0.9993.\n",
      "Validation Loss: 0.2095, Validation Acc: 0.9673.\n",
      "---Epoch 23/25:---\n",
      "Train Loss: 0.0030, Train Acc: 0.9995.\n",
      "Validation Loss: 0.2107, Validation Acc: 0.9685.\n",
      "---Epoch 24/25:---\n",
      "Train Loss: 0.0046, Train Acc: 0.9989.\n",
      "Validation Loss: 0.1908, Validation Acc: 0.9679.\n",
      "---Epoch 25/25:---\n",
      "Train Loss: 0.0036, Train Acc: 0.9993.\n",
      "Validation Loss: 0.2220, Validation Acc: 0.9681.\n"
     ]
    }
   ],
   "source": [
    "# Initialize lists before training\n",
    "train_losses = []\n",
    "train_accuracies = []\n",
    "val_losses = []\n",
    "val_accuracies = []\n",
    "\n",
    "np.random.seed(42)\n",
    "\n",
    "for epoch in range(epochs):\n",
    "    print(f\"---Epoch {epoch+1}/{epochs}:---\")\n",
    "    \n",
    "    train_loss, train_acc = trainloop(train_loader, model, loss_func, optimizer)\n",
    "    val_loss, val_acc = testloop(val_loader, model, loss_func)\n",
    "\n",
    "    # Store results\n",
    "    train_losses.append(train_loss)\n",
    "    train_accuracies.append(train_acc)\n",
    "    val_losses.append(val_loss)\n",
    "    val_accuracies.append(val_acc)\n",
    "\n",
    "    # Print progress\n",
    "    print(f'Train Loss: {train_loss:.4f}, Train Acc: {train_acc:.4f}.')\n",
    "    print(f'Validation Loss: {val_loss:.4f}, Validation Acc: {val_acc:.4f}.')"
   ]
  },
  {
   "cell_type": "code",
   "execution_count": 30,
   "metadata": {},
   "outputs": [
    {
     "data": {
      "image/png": "[encoded data removed]",
      "text/plain": [
       "<Figure size 1000x400 with 2 Axes>"
      ]
     },
     "metadata": {},
     "output_type": "display_data"
    }
   ],
   "source": [
    "# Plotting loss\n",
    "plt.figure(figsize=(10, 4))\n",
    "plt.subplot(1, 2, 1)\n",
    "plt.plot(train_losses, label='Train Loss')\n",
    "plt.plot(val_losses, label='Validation Loss')\n",
    "plt.xlabel('Epoch')\n",
    "plt.ylabel('Loss')\n",
    "plt.title('Loss over Epochs')\n",
    "plt.legend()\n",
    "\n",
    "# Plotting accuracy\n",
    "plt.subplot(1, 2, 2)\n",
    "plt.plot(train_accuracies, label='Train Acc')\n",
    "plt.plot(val_accuracies, label='Validation Acc')\n",
    "plt.xlabel('Epoch')\n",
    "plt.ylabel('Accuracy')\n",
    "plt.title('Accuracy over Epochs')\n",
    "plt.legend()\n",
    "\n",
    "plt.tight_layout()\n",
    "plt.show()\n"
   ]
  },
  {
   "cell_type": "markdown",
   "metadata": {},
   "source": [
    "We see overfitting when increasing the trainig Epochs. This is not surprising as LSTM blocks are prone to overfitting. Even with adding dropouts in the LSTM block we see overfitting at about the 10th epoch of training."
   ]
  },
  {
   "cell_type": "code",
   "execution_count": 29,
   "metadata": {},
   "outputs": [
    {
     "name": "stdout",
     "output_type": "stream",
     "text": [
      "Test Loss: 0.18711615467820758, Test Accuracy: 0.9707498144023756\n"
     ]
    }
   ],
   "source": [
    "test_loss, test_acc = testloop(test_loader, model, loss_func)\n",
    "print(f\"Test Loss: {test_loss}, Test Accuracy: {test_acc}\")"
   ]
  },
  {
   "cell_type": "code",
   "execution_count": 24,
   "metadata": {},
   "outputs": [],
   "source": [
    "torch.save(model.state_dict(), \"./model_parameters/LSTM_bidirectional.pth\")"
   ]
  }
 ],
 "metadata": {
  "kernelspec": {
   "display_name": "DS6100",
   "language": "python",
   "name": "python3"
  },
  "language_info": {
   "codemirror_mode": {
    "name": "ipython",
    "version": 3
   },
   "file_extension": ".py",
   "mimetype": "text/x-python",
   "name": "python",
   "nbconvert_exporter": "python",
   "pygments_lexer": "ipython3",
   "version": "3.13.2"
  }
 },
 "nbformat": 4,
 "nbformat_minor": 2
}

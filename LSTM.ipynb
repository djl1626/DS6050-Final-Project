{
 "cells": [
  {
   "cell_type": "code",
   "execution_count": 11,
   "metadata": {},
   "outputs": [],
   "source": [
    "import pandas as pd\n",
    "import numpy as np\n",
    "import matplotlib.pyplot as plt\n",
    "\n",
    "import torch\n",
    "import torch.nn as nn\n",
    "import torch.optim as optim\n",
    "from torch.utils.data import DataLoader, Dataset\n",
    "from sklearn.model_selection import train_test_split\n",
    "from transformers import BertTokenizer"
   ]
  },
  {
   "cell_type": "markdown",
   "metadata": {},
   "source": [
    "## Data Preprocessing"
   ]
  },
  {
   "cell_type": "code",
   "execution_count": null,
   "metadata": {},
   "outputs": [],
   "source": [
    "# Load in the data\n",
    "fake_news = pd.read_csv('Data/a1_Fake.csv')\n",
    "true_news = pd.read_csv('Data/a1_True.csv')\n",
    "\n",
    "# Add labels to each dataframe where 1 is fake and 0 is true\n",
    "fake_news['label'] = 1\n",
    "true_news['label'] = 0\n",
    "\n",
    "# Concatenate the two dataframes\n",
    "news = pd.concat([fake_news, true_news], axis=0)"
   ]
  },
  {
   "cell_type": "code",
   "execution_count": 12,
   "metadata": {},
   "outputs": [],
   "source": [
    "# Split the data into training, validation, and testing sets\n",
    "train_df, temp_df = train_test_split(news, test_size=0.3, random_state=42, shuffle=True)\n",
    "val_df, test_df = train_test_split(temp_df, test_size=0.5, random_state=42, shuffle=True)"
   ]
  },
  {
   "cell_type": "code",
   "execution_count": 13,
   "metadata": {},
   "outputs": [
    {
     "data": {
      "application/vnd.jupyter.widget-view+json": {
       "model_id": "6b1365ffcfe54a12baadd7a517a9a191",
       "version_major": 2,
       "version_minor": 0
      },
      "text/plain": [
       "tokenizer_config.json:   0%|          | 0.00/48.0 [00:00<?, ?B/s]"
      ]
     },
     "metadata": {},
     "output_type": "display_data"
    },
    {
     "data": {
      "application/vnd.jupyter.widget-view+json": {
       "model_id": "c68ef081e20b4aaabd399fb7694f9ecd",
       "version_major": 2,
       "version_minor": 0
      },
      "text/plain": [
       "vocab.txt:   0%|          | 0.00/232k [00:00<?, ?B/s]"
      ]
     },
     "metadata": {},
     "output_type": "display_data"
    },
    {
     "data": {
      "application/vnd.jupyter.widget-view+json": {
       "model_id": "2edd572af48447c9807dec55d22b2f88",
       "version_major": 2,
       "version_minor": 0
      },
      "text/plain": [
       "tokenizer.json:   0%|          | 0.00/466k [00:00<?, ?B/s]"
      ]
     },
     "metadata": {},
     "output_type": "display_data"
    },
    {
     "data": {
      "application/vnd.jupyter.widget-view+json": {
       "model_id": "8f457c38673e430a85215d77b0477557",
       "version_major": 2,
       "version_minor": 0
      },
      "text/plain": [
       "config.json:   0%|          | 0.00/570 [00:00<?, ?B/s]"
      ]
     },
     "metadata": {},
     "output_type": "display_data"
    }
   ],
   "source": [
    "tokenizer = BertTokenizer.from_pretrained('bert-base-uncased')"
   ]
  },
  {
   "cell_type": "code",
   "execution_count": 34,
   "metadata": {},
   "outputs": [],
   "source": [
    "class FakeNewsDataset(Dataset):\n",
    "    def __init__(self, dataframe, tokenizer, max_length):\n",
    "        self.inputs = dataframe['title']\n",
    "        self.labels = dataframe['label']\n",
    "        self.tokenizer = tokenizer\n",
    "        self.max_length = max_length\n",
    "\n",
    "    def __len__(self):\n",
    "        return len(self.inputs)\n",
    "    \n",
    "    def __getitem__(self, idx):\n",
    "        input_text = self.inputs.iloc[idx]\n",
    "        tokenized_inputs = self.tokenizer.encode(\n",
    "            input_text,\n",
    "            max_length=self.max_length,\n",
    "            truncation=True,\n",
    "            padding='max_length',\n",
    "            return_tensors='pt'\n",
    "        )\n",
    "        label = self.labels.iloc[idx]\n",
    "        return tokenized_inputs, torch.tensor(label, dtype=torch.long)"
   ]
  },
  {
   "cell_type": "code",
   "execution_count": null,
   "metadata": {},
   "outputs": [],
   "source": [
    "train_dataset = FakeNewsDataset(train_df, tokenizer, 128)\n",
    "val_dataset = FakeNewsDataset(val_df, tokenizer, 128)\n",
    "test_dataset = FakeNewsDataset(test_df, tokenizer, 128)\n",
    "\n",
    "train_loader = DataLoader(train_dataset, batch_size=32, shuffle=True)\n",
    "val_loader = DataLoader(val_dataset, batch_size=32, shuffle=False)\n",
    "test_loader = DataLoader(test_dataset, batch_size=32, shuffle=False)"
   ]
  },
  {
   "cell_type": "markdown",
   "metadata": {},
   "source": [
    "## Model Arcitecture"
   ]
  },
  {
   "cell_type": "code",
   "execution_count": 39,
   "metadata": {},
   "outputs": [],
   "source": [
    "class LSTM(nn.Module):\n",
    "    def __init__(self, vocab_size, embedding_dim, hidden_dim, output_dim):\n",
    "        super(LSTM, self).__init__()\n",
    "        self.embedding = nn.Embedding(vocab_size, embedding_dim)\n",
    "        self.lstm = nn.LSTM(embedding_dim, hidden_dim, batch_first=True)\n",
    "        self.fc = nn.Linear(hidden_dim, output_dim)\n",
    "\n",
    "    def forward(self, x):\n",
    "        embedded = self.embedding(x)\n",
    "        lstm_out, _ = self.lstm(embedded) # Don't need to save the final hidden states from the LSTM block\n",
    "        out = self.fc(lstm_out[:, -1, :])\n",
    "        return out"
   ]
  },
  {
   "cell_type": "markdown",
   "metadata": {},
   "source": [
    "## Train and Test Loops"
   ]
  },
  {
   "cell_type": "code",
   "execution_count": 40,
   "metadata": {},
   "outputs": [],
   "source": [
    "def trainloop(dataloader, model, loss_func, optimizer):\n",
    "    device = 'cuda' if torch.cuda.is_available() else 'cpu'\n",
    "    num_batches = len(dataloader)\n",
    "    train_loss, train_acc = 0. , 0.\n",
    "    model.train()\n",
    "    for inputs, labels in dataloader:\n",
    "        inputs = inputs.squeeze(1).to(device)\n",
    "        labels = labels.to(device)\n",
    "\n",
    "        optimizer.zero_grad()\n",
    "        outputs = model(inputs)\n",
    "        loss = loss_func(outputs, labels)\n",
    "        loss.backward()\n",
    "        optimizer.step()\n",
    "\n",
    "        train_loss += loss.item()\n",
    "        train_acc += (outputs.argmax(dim=1) == labels).sum().item()\n",
    "    return train_loss / num_batches, train_acc / len(dataloader.dataset)\n",
    "    \n",
    "\n",
    "def testloop(dataloader, model, loss_func):\n",
    "    device = 'cuda' if torch.cuda.is_available() else 'cpu'\n",
    "    num_batches = len(dataloader)\n",
    "    test_loss, test_acc = 0. , 0.\n",
    "    model.eval()\n",
    "    with torch.no_grad():\n",
    "        for inputs, labels in dataloader:\n",
    "            inputs = inputs.squeeze(1).to(device)\n",
    "            labels = labels.to(device)\n",
    "\n",
    "            outputs = model(inputs)\n",
    "            loss = loss_func(outputs, labels)\n",
    "\n",
    "            test_loss += loss.item()\n",
    "            test_acc += (outputs.argmax(dim=1) == labels).sum().item()\n",
    "    return test_loss / num_batches, test_acc / len(dataloader.dataset)"
   ]
  },
  {
   "cell_type": "code",
   "execution_count": 41,
   "metadata": {},
   "outputs": [],
   "source": [
    "# Hyperparameters\n",
    "lr = 1e-4\n",
    "batch_size = 32\n",
    "epochs = 10\n",
    "max_len = 64"
   ]
  },
  {
   "cell_type": "code",
   "execution_count": null,
   "metadata": {},
   "outputs": [],
   "source": [
    "model = LSTM(vocab_size=tokenizer.vocab_size, embedding_dim=128, hidden_dim=64, output_dim=2)\n",
    "optimizer = optim.Adam(model.parameters(), lr=lr)\n",
    "loss_func = nn.CrossEntropyLoss()\n",
    "\n",
    "model.to('cuda' if torch.cuda.is_available() else 'cpu')"
   ]
  },
  {
   "cell_type": "code",
   "execution_count": 49,
   "metadata": {},
   "outputs": [
    {
     "name": "stdout",
     "output_type": "stream",
     "text": [
      "---Epoch 1/10:---\n",
      "Train Loss: 0.6929, Train Acc: 0.5150.\n",
      "Validation Loss: 0.6919, Validation Acc: 0.5275.\n",
      "---Epoch 2/10:---\n",
      "Train Loss: 0.6927, Train Acc: 0.5198.\n",
      "Validation Loss: 0.6924, Validation Acc: 0.5275.\n",
      "---Epoch 3/10:---\n",
      "Train Loss: 0.6925, Train Acc: 0.5169.\n",
      "Validation Loss: 0.6916, Validation Acc: 0.5275.\n",
      "---Epoch 4/10:---\n",
      "Train Loss: 0.6926, Train Acc: 0.5197.\n",
      "Validation Loss: 0.6924, Validation Acc: 0.5275.\n",
      "---Epoch 5/10:---\n",
      "Train Loss: 0.6924, Train Acc: 0.5213.\n",
      "Validation Loss: 0.6919, Validation Acc: 0.5275.\n",
      "---Epoch 6/10:---\n",
      "Train Loss: 0.6925, Train Acc: 0.5215.\n",
      "Validation Loss: 0.6917, Validation Acc: 0.5275.\n",
      "---Epoch 7/10:---\n",
      "Train Loss: 0.6924, Train Acc: 0.5207.\n",
      "Validation Loss: 0.6916, Validation Acc: 0.5275.\n",
      "---Epoch 8/10:---\n",
      "Train Loss: 0.6924, Train Acc: 0.5215.\n",
      "Validation Loss: 0.6923, Validation Acc: 0.5275.\n",
      "---Epoch 9/10:---\n",
      "Train Loss: 0.6924, Train Acc: 0.5215.\n",
      "Validation Loss: 0.6918, Validation Acc: 0.5275.\n",
      "---Epoch 10/10:---\n",
      "Train Loss: 0.6923, Train Acc: 0.5215.\n",
      "Validation Loss: 0.6916, Validation Acc: 0.5275.\n"
     ]
    }
   ],
   "source": [
    "for epoch in range(epochs):\n",
    "    print(f\"---Epoch {epoch+1}/{epochs}:---\")\n",
    "    train_loss, train_acc = trainloop(train_loader, model, loss_func, optimizer)\n",
    "    val_loss, val_acc = testloop(val_loader, model, loss_func)\n",
    "    print(f'Train Loss: {train_loss:.4f}, Train Acc: {train_acc:.4f}.')\n",
    "    print(f'Validation Loss: {val_loss:.4f}, Validation Acc: {val_acc:.4f}.')\n"
   ]
  }
 ],
 "metadata": {
  "kernelspec": {
   "display_name": "DS6100",
   "language": "python",
   "name": "python3"
  },
  "language_info": {
   "codemirror_mode": {
    "name": "ipython",
    "version": 3
   },
   "file_extension": ".py",
   "mimetype": "text/x-python",
   "name": "python",
   "nbconvert_exporter": "python",
   "pygments_lexer": "ipython3",
   "version": "3.12.2"
  }
 },
 "nbformat": 4,
 "nbformat_minor": 2
}
